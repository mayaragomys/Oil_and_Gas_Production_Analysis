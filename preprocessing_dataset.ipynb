{
 "cells": [
  {
   "cell_type": "markdown",
   "metadata": {},
   "source": [
    "# Análise e processamento dos dados\n",
    "- Processar dados nulos\n",
    "- Modificar os tipos\n",
    "- Analisar/Adicionar novas colunas"
   ]
  },
  {
   "cell_type": "code",
   "execution_count": 2,
   "metadata": {},
   "outputs": [],
   "source": [
    "import pandas as pd\n",
    "import numpy as np\n",
    "from utils import *\n"
   ]
  },
  {
   "cell_type": "markdown",
   "metadata": {},
   "source": [
    "## 1. Carregamento do dataset "
   ]
  },
  {
   "cell_type": "code",
   "execution_count": null,
   "metadata": {},
   "outputs": [],
   "source": [
    "\n",
    "path = 'dataset/raw/datasets_2005_2023.csv'\n",
    "# Carrega o dataset e Lê o arquivo utilizando as colunas informadas\n",
    "dataset = pd.read_csv(path, skiprows=0, delimiter=';')\n"
   ]
  },
  {
   "cell_type": "code",
   "execution_count": 4,
   "metadata": {},
   "outputs": [
    {
     "data": {
      "text/html": [
       "<div>\n",
       "<style scoped>\n",
       "    .dataframe tbody tr th:only-of-type {\n",
       "        vertical-align: middle;\n",
       "    }\n",
       "\n",
       "    .dataframe tbody tr th {\n",
       "        vertical-align: top;\n",
       "    }\n",
       "\n",
       "    .dataframe thead th {\n",
       "        text-align: right;\n",
       "    }\n",
       "</style>\n",
       "<table border=\"1\" class=\"dataframe\">\n",
       "  <thead>\n",
       "    <tr style=\"text-align: right;\">\n",
       "      <th></th>\n",
       "      <th>Unnamed: 0</th>\n",
       "      <th>Estado</th>\n",
       "      <th>Bacia</th>\n",
       "      <th>Nome Poço</th>\n",
       "      <th>Operador</th>\n",
       "      <th>Campo</th>\n",
       "      <th>Operador_empresa</th>\n",
       "      <th>Número do Contrato</th>\n",
       "      <th>Período</th>\n",
       "      <th>Óleo (bbl/dia)</th>\n",
       "      <th>Condensado (bbl/dia)</th>\n",
       "      <th>Petróleo (bbl/dia)</th>\n",
       "      <th>Gás Natural_associado (Mm³/dia)</th>\n",
       "      <th>Gás Natural_no_associado (Mm³/dia)</th>\n",
       "      <th>Gás Natural_total (Mm³/dia)</th>\n",
       "      <th>Volume Gás Royalties (Mm³/dia)</th>\n",
       "      <th>Água (bbl/dia)</th>\n",
       "      <th>Instalação Destino</th>\n",
       "      <th>Tipo Instalação</th>\n",
       "      <th>Tempo de Produção (hs por mês)</th>\n",
       "    </tr>\n",
       "  </thead>\n",
       "  <tbody>\n",
       "    <tr>\n",
       "      <th>0</th>\n",
       "      <td>6</td>\n",
       "      <td>Bahia</td>\n",
       "      <td>Recôncavo</td>\n",
       "      <td>7-C-10-BA</td>\n",
       "      <td>7C   0010  BA</td>\n",
       "      <td>CANDEIAS</td>\n",
       "      <td>Petrobras</td>\n",
       "      <td>480000036389734</td>\n",
       "      <td>2005/01</td>\n",
       "      <td>9,4367</td>\n",
       "      <td>0,0000</td>\n",
       "      <td>9,4367</td>\n",
       "      <td>0,0000</td>\n",
       "      <td>0,0000</td>\n",
       "      <td>0,0000</td>\n",
       "      <td>0,00000</td>\n",
       "      <td>0,0000</td>\n",
       "      <td>NaN</td>\n",
       "      <td>NaN</td>\n",
       "      <td>31.0</td>\n",
       "    </tr>\n",
       "    <tr>\n",
       "      <th>1</th>\n",
       "      <td>7</td>\n",
       "      <td>Bahia</td>\n",
       "      <td>Recôncavo</td>\n",
       "      <td>7-C-13-BA</td>\n",
       "      <td>7C   0013  BA</td>\n",
       "      <td>CANDEIAS</td>\n",
       "      <td>Petrobras</td>\n",
       "      <td>480000036389734</td>\n",
       "      <td>2005/01</td>\n",
       "      <td>0,0000</td>\n",
       "      <td>0,0000</td>\n",
       "      <td>0,0000</td>\n",
       "      <td>0,0000</td>\n",
       "      <td>0,0000</td>\n",
       "      <td>0,0000</td>\n",
       "      <td>0,00000</td>\n",
       "      <td>0,0000</td>\n",
       "      <td>NaN</td>\n",
       "      <td>NaN</td>\n",
       "      <td>31.0</td>\n",
       "    </tr>\n",
       "    <tr>\n",
       "      <th>2</th>\n",
       "      <td>8</td>\n",
       "      <td>Bahia</td>\n",
       "      <td>Recôncavo</td>\n",
       "      <td>7-A-6-BA</td>\n",
       "      <td>7A   0006  BA</td>\n",
       "      <td>ARATU</td>\n",
       "      <td>Petrobras</td>\n",
       "      <td>480000036329758</td>\n",
       "      <td>2005/01</td>\n",
       "      <td>0,0000</td>\n",
       "      <td>0,0000</td>\n",
       "      <td>0,0000</td>\n",
       "      <td>0,0000</td>\n",
       "      <td>0,0000</td>\n",
       "      <td>0,0000</td>\n",
       "      <td>0,00000</td>\n",
       "      <td>0,0000</td>\n",
       "      <td>NaN</td>\n",
       "      <td>NaN</td>\n",
       "      <td>31.0</td>\n",
       "    </tr>\n",
       "    <tr>\n",
       "      <th>3</th>\n",
       "      <td>9</td>\n",
       "      <td>Bahia</td>\n",
       "      <td>Recôncavo</td>\n",
       "      <td>3-A-9-BA</td>\n",
       "      <td>3A   0009  BA</td>\n",
       "      <td>ARATU</td>\n",
       "      <td>Petrobras</td>\n",
       "      <td>480000036329758</td>\n",
       "      <td>2005/01</td>\n",
       "      <td>0,0000</td>\n",
       "      <td>0,0000</td>\n",
       "      <td>0,0000</td>\n",
       "      <td>0,0000</td>\n",
       "      <td>0,0000</td>\n",
       "      <td>0,0000</td>\n",
       "      <td>0,00000</td>\n",
       "      <td>0,0000</td>\n",
       "      <td>NaN</td>\n",
       "      <td>NaN</td>\n",
       "      <td>31.0</td>\n",
       "    </tr>\n",
       "  </tbody>\n",
       "</table>\n",
       "</div>"
      ],
      "text/plain": [
       "   Unnamed: 0 Estado      Bacia  Nome Poço              Operador     Campo  \\\n",
       "0           6  Bahia  Recôncavo  7-C-10-BA  7C   0010  BA         CANDEIAS   \n",
       "1           7  Bahia  Recôncavo  7-C-13-BA  7C   0013  BA         CANDEIAS   \n",
       "2           8  Bahia  Recôncavo   7-A-6-BA  7A   0006  BA            ARATU   \n",
       "3           9  Bahia  Recôncavo   3-A-9-BA  3A   0009  BA            ARATU   \n",
       "\n",
       "  Operador_empresa Número do Contrato  Período Óleo (bbl/dia)  \\\n",
       "0        Petrobras    480000036389734  2005/01         9,4367   \n",
       "1        Petrobras    480000036389734  2005/01         0,0000   \n",
       "2        Petrobras    480000036329758  2005/01         0,0000   \n",
       "3        Petrobras    480000036329758  2005/01         0,0000   \n",
       "\n",
       "  Condensado (bbl/dia) Petróleo (bbl/dia) Gás Natural_associado (Mm³/dia)  \\\n",
       "0               0,0000             9,4367                          0,0000   \n",
       "1               0,0000             0,0000                          0,0000   \n",
       "2               0,0000             0,0000                          0,0000   \n",
       "3               0,0000             0,0000                          0,0000   \n",
       "\n",
       "  Gás Natural_no_associado (Mm³/dia) Gás Natural_total (Mm³/dia)  \\\n",
       "0                             0,0000                      0,0000   \n",
       "1                             0,0000                      0,0000   \n",
       "2                             0,0000                      0,0000   \n",
       "3                             0,0000                      0,0000   \n",
       "\n",
       "  Volume Gás Royalties (Mm³/dia) Água (bbl/dia) Instalação Destino  \\\n",
       "0                        0,00000         0,0000                NaN   \n",
       "1                        0,00000         0,0000                NaN   \n",
       "2                        0,00000         0,0000                NaN   \n",
       "3                        0,00000         0,0000                NaN   \n",
       "\n",
       "  Tipo Instalação  Tempo de Produção (hs por mês)  \n",
       "0             NaN                            31.0  \n",
       "1             NaN                            31.0  \n",
       "2             NaN                            31.0  \n",
       "3             NaN                            31.0  "
      ]
     },
     "execution_count": 4,
     "metadata": {},
     "output_type": "execute_result"
    }
   ],
   "source": [
    "# Mostra as primeiras n linhas do Dataframe\n",
    "dataset.head(n= 4)\n"
   ]
  },
  {
   "cell_type": "code",
   "execution_count": 5,
   "metadata": {},
   "outputs": [
    {
     "data": {
      "text/plain": [
       "array(['Bahia', 'Alagoas', 'Sergipe', 'Espírito Santo', 'Ceará',\n",
       "       'Rio Grande do Norte', 'Amazonas', 'Maranhão', nan, 'Paraná'],\n",
       "      dtype=object)"
      ]
     },
     "execution_count": 5,
     "metadata": {},
     "output_type": "execute_result"
    }
   ],
   "source": [
    "dataset['Estado'].unique()"
   ]
  },
  {
   "cell_type": "markdown",
   "metadata": {},
   "source": [
    "## 2. Pré-processamento do dataset\n",
    "- Excluir colunas desnecessárias\n",
    "- Tratar dados nulos\n",
    "- Adicionar novas colunas"
   ]
  },
  {
   "cell_type": "markdown",
   "metadata": {},
   "source": [
    "### 2.1 Excluir colunas desnecesárias "
   ]
  },
  {
   "cell_type": "code",
   "execution_count": 6,
   "metadata": {},
   "outputs": [],
   "source": [
    "# Remove colunas desnecessarias\n",
    "drop_atributos = ['Unnamed: 0', 'Operador', 'Número do Contrato', 'Água (bbl/dia)', 'Gás Natural_associado (Mm³/dia)', \n",
    "                  'Gás Natural_no_associado (Mm³/dia)', 'Volume Gás Royalties (Mm³/dia)', \n",
    "                  'Óleo (bbl/dia)', 'Condensado (bbl/dia)', 'Instalação Destino', 'Tipo Instalação']\n",
    "dataset = dataset.drop(columns=drop_atributos)\n"
   ]
  },
  {
   "cell_type": "code",
   "execution_count": 7,
   "metadata": {},
   "outputs": [
    {
     "data": {
      "text/html": [
       "<div>\n",
       "<style scoped>\n",
       "    .dataframe tbody tr th:only-of-type {\n",
       "        vertical-align: middle;\n",
       "    }\n",
       "\n",
       "    .dataframe tbody tr th {\n",
       "        vertical-align: top;\n",
       "    }\n",
       "\n",
       "    .dataframe thead th {\n",
       "        text-align: right;\n",
       "    }\n",
       "</style>\n",
       "<table border=\"1\" class=\"dataframe\">\n",
       "  <thead>\n",
       "    <tr style=\"text-align: right;\">\n",
       "      <th></th>\n",
       "      <th>Estado</th>\n",
       "      <th>Bacia</th>\n",
       "      <th>Nome Poço</th>\n",
       "      <th>Campo</th>\n",
       "      <th>Operador_empresa</th>\n",
       "      <th>Período</th>\n",
       "      <th>Petróleo (bbl/dia)</th>\n",
       "      <th>Gás Natural_total (Mm³/dia)</th>\n",
       "      <th>Tempo de Produção (hs por mês)</th>\n",
       "    </tr>\n",
       "  </thead>\n",
       "  <tbody>\n",
       "    <tr>\n",
       "      <th>0</th>\n",
       "      <td>Bahia</td>\n",
       "      <td>Recôncavo</td>\n",
       "      <td>7-C-10-BA</td>\n",
       "      <td>CANDEIAS</td>\n",
       "      <td>Petrobras</td>\n",
       "      <td>2005/01</td>\n",
       "      <td>9,4367</td>\n",
       "      <td>0,0000</td>\n",
       "      <td>31.0</td>\n",
       "    </tr>\n",
       "    <tr>\n",
       "      <th>1</th>\n",
       "      <td>Bahia</td>\n",
       "      <td>Recôncavo</td>\n",
       "      <td>7-C-13-BA</td>\n",
       "      <td>CANDEIAS</td>\n",
       "      <td>Petrobras</td>\n",
       "      <td>2005/01</td>\n",
       "      <td>0,0000</td>\n",
       "      <td>0,0000</td>\n",
       "      <td>31.0</td>\n",
       "    </tr>\n",
       "    <tr>\n",
       "      <th>2</th>\n",
       "      <td>Bahia</td>\n",
       "      <td>Recôncavo</td>\n",
       "      <td>7-A-6-BA</td>\n",
       "      <td>ARATU</td>\n",
       "      <td>Petrobras</td>\n",
       "      <td>2005/01</td>\n",
       "      <td>0,0000</td>\n",
       "      <td>0,0000</td>\n",
       "      <td>31.0</td>\n",
       "    </tr>\n",
       "    <tr>\n",
       "      <th>3</th>\n",
       "      <td>Bahia</td>\n",
       "      <td>Recôncavo</td>\n",
       "      <td>3-A-9-BA</td>\n",
       "      <td>ARATU</td>\n",
       "      <td>Petrobras</td>\n",
       "      <td>2005/01</td>\n",
       "      <td>0,0000</td>\n",
       "      <td>0,0000</td>\n",
       "      <td>31.0</td>\n",
       "    </tr>\n",
       "  </tbody>\n",
       "</table>\n",
       "</div>"
      ],
      "text/plain": [
       "  Estado      Bacia  Nome Poço     Campo Operador_empresa  Período  \\\n",
       "0  Bahia  Recôncavo  7-C-10-BA  CANDEIAS        Petrobras  2005/01   \n",
       "1  Bahia  Recôncavo  7-C-13-BA  CANDEIAS        Petrobras  2005/01   \n",
       "2  Bahia  Recôncavo   7-A-6-BA     ARATU        Petrobras  2005/01   \n",
       "3  Bahia  Recôncavo   3-A-9-BA     ARATU        Petrobras  2005/01   \n",
       "\n",
       "  Petróleo (bbl/dia) Gás Natural_total (Mm³/dia)  \\\n",
       "0             9,4367                      0,0000   \n",
       "1             0,0000                      0,0000   \n",
       "2             0,0000                      0,0000   \n",
       "3             0,0000                      0,0000   \n",
       "\n",
       "   Tempo de Produção (hs por mês)  \n",
       "0                            31.0  \n",
       "1                            31.0  \n",
       "2                            31.0  \n",
       "3                            31.0  "
      ]
     },
     "execution_count": 7,
     "metadata": {},
     "output_type": "execute_result"
    }
   ],
   "source": [
    "# Mostra as primeiras n linhas do Dataframe\n",
    "dataset.head(n= 4)"
   ]
  },
  {
   "cell_type": "markdown",
   "metadata": {},
   "source": [
    "### 2.2 Tratar dados nulos"
   ]
  },
  {
   "cell_type": "code",
   "execution_count": 8,
   "metadata": {},
   "outputs": [
    {
     "data": {
      "text/plain": [
       "Estado                            3063\n",
       "Bacia                             3063\n",
       "Nome Poço                         3063\n",
       "Campo                             3063\n",
       "Operador_empresa                  3063\n",
       "Período                           3063\n",
       "Petróleo (bbl/dia)                3063\n",
       "Gás Natural_total (Mm³/dia)       3063\n",
       "Tempo de Produção (hs por mês)    3063\n",
       "dtype: int64"
      ]
     },
     "execution_count": 8,
     "metadata": {},
     "output_type": "execute_result"
    }
   ],
   "source": [
    "# verificando nulls no dataset\n",
    "dataset.isnull().sum()"
   ]
  },
  {
   "cell_type": "code",
   "execution_count": 9,
   "metadata": {},
   "outputs": [],
   "source": [
    "dataset_no_null = dataset.dropna()"
   ]
  },
  {
   "cell_type": "code",
   "execution_count": 10,
   "metadata": {},
   "outputs": [
    {
     "data": {
      "text/plain": [
       "Estado                            0\n",
       "Bacia                             0\n",
       "Nome Poço                         0\n",
       "Campo                             0\n",
       "Operador_empresa                  0\n",
       "Período                           0\n",
       "Petróleo (bbl/dia)                0\n",
       "Gás Natural_total (Mm³/dia)       0\n",
       "Tempo de Produção (hs por mês)    0\n",
       "dtype: int64"
      ]
     },
     "execution_count": 10,
     "metadata": {},
     "output_type": "execute_result"
    }
   ],
   "source": [
    "dataset_no_null.isnull().sum()"
   ]
  },
  {
   "cell_type": "code",
   "execution_count": 11,
   "metadata": {},
   "outputs": [
    {
     "data": {
      "text/html": [
       "<div>\n",
       "<style scoped>\n",
       "    .dataframe tbody tr th:only-of-type {\n",
       "        vertical-align: middle;\n",
       "    }\n",
       "\n",
       "    .dataframe tbody tr th {\n",
       "        vertical-align: top;\n",
       "    }\n",
       "\n",
       "    .dataframe thead th {\n",
       "        text-align: right;\n",
       "    }\n",
       "</style>\n",
       "<table border=\"1\" class=\"dataframe\">\n",
       "  <thead>\n",
       "    <tr style=\"text-align: right;\">\n",
       "      <th></th>\n",
       "      <th>Estado</th>\n",
       "      <th>Bacia</th>\n",
       "      <th>Nome Poço</th>\n",
       "      <th>Campo</th>\n",
       "      <th>Operador_empresa</th>\n",
       "      <th>Período</th>\n",
       "      <th>Petróleo (bbl/dia)</th>\n",
       "      <th>Gás Natural_total (Mm³/dia)</th>\n",
       "      <th>Tempo de Produção (hs por mês)</th>\n",
       "    </tr>\n",
       "  </thead>\n",
       "  <tbody>\n",
       "    <tr>\n",
       "      <th>0</th>\n",
       "      <td>Bahia</td>\n",
       "      <td>Recôncavo</td>\n",
       "      <td>7-C-10-BA</td>\n",
       "      <td>CANDEIAS</td>\n",
       "      <td>Petrobras</td>\n",
       "      <td>2005/01</td>\n",
       "      <td>9,4367</td>\n",
       "      <td>0,0000</td>\n",
       "      <td>31.0</td>\n",
       "    </tr>\n",
       "    <tr>\n",
       "      <th>1</th>\n",
       "      <td>Bahia</td>\n",
       "      <td>Recôncavo</td>\n",
       "      <td>7-C-13-BA</td>\n",
       "      <td>CANDEIAS</td>\n",
       "      <td>Petrobras</td>\n",
       "      <td>2005/01</td>\n",
       "      <td>0,0000</td>\n",
       "      <td>0,0000</td>\n",
       "      <td>31.0</td>\n",
       "    </tr>\n",
       "    <tr>\n",
       "      <th>2</th>\n",
       "      <td>Bahia</td>\n",
       "      <td>Recôncavo</td>\n",
       "      <td>7-A-6-BA</td>\n",
       "      <td>ARATU</td>\n",
       "      <td>Petrobras</td>\n",
       "      <td>2005/01</td>\n",
       "      <td>0,0000</td>\n",
       "      <td>0,0000</td>\n",
       "      <td>31.0</td>\n",
       "    </tr>\n",
       "    <tr>\n",
       "      <th>3</th>\n",
       "      <td>Bahia</td>\n",
       "      <td>Recôncavo</td>\n",
       "      <td>3-A-9-BA</td>\n",
       "      <td>ARATU</td>\n",
       "      <td>Petrobras</td>\n",
       "      <td>2005/01</td>\n",
       "      <td>0,0000</td>\n",
       "      <td>0,0000</td>\n",
       "      <td>31.0</td>\n",
       "    </tr>\n",
       "  </tbody>\n",
       "</table>\n",
       "</div>"
      ],
      "text/plain": [
       "  Estado      Bacia  Nome Poço     Campo Operador_empresa  Período  \\\n",
       "0  Bahia  Recôncavo  7-C-10-BA  CANDEIAS        Petrobras  2005/01   \n",
       "1  Bahia  Recôncavo  7-C-13-BA  CANDEIAS        Petrobras  2005/01   \n",
       "2  Bahia  Recôncavo   7-A-6-BA     ARATU        Petrobras  2005/01   \n",
       "3  Bahia  Recôncavo   3-A-9-BA     ARATU        Petrobras  2005/01   \n",
       "\n",
       "  Petróleo (bbl/dia) Gás Natural_total (Mm³/dia)  \\\n",
       "0             9,4367                      0,0000   \n",
       "1             0,0000                      0,0000   \n",
       "2             0,0000                      0,0000   \n",
       "3             0,0000                      0,0000   \n",
       "\n",
       "   Tempo de Produção (hs por mês)  \n",
       "0                            31.0  \n",
       "1                            31.0  \n",
       "2                            31.0  \n",
       "3                            31.0  "
      ]
     },
     "execution_count": 11,
     "metadata": {},
     "output_type": "execute_result"
    }
   ],
   "source": [
    "# Mostra as primeiras n linhas do Dataframe\n",
    "dataset.head(n= 4)"
   ]
  },
  {
   "cell_type": "markdown",
   "metadata": {},
   "source": [
    "### 2.3 Modificar os tipos\n",
    "Alguns atributos estão no formato de **string**, é necessário substituir a ',' pelo '.'."
   ]
  },
  {
   "cell_type": "code",
   "execution_count": 12,
   "metadata": {},
   "outputs": [
    {
     "data": {
      "text/plain": [
       "Estado                             object\n",
       "Bacia                              object\n",
       "Nome Poço                          object\n",
       "Campo                              object\n",
       "Operador_empresa                   object\n",
       "Período                            object\n",
       "Petróleo (bbl/dia)                 object\n",
       "Gás Natural_total (Mm³/dia)        object\n",
       "Tempo de Produção (hs por mês)    float64\n",
       "dtype: object"
      ]
     },
     "execution_count": 12,
     "metadata": {},
     "output_type": "execute_result"
    }
   ],
   "source": [
    "# Verifica o tipo de dataset de cada atributo\n",
    "dataset.dtypes"
   ]
  },
  {
   "cell_type": "code",
   "execution_count": null,
   "metadata": {},
   "outputs": [],
   "source": [
    "#Substituição da '.' pelo ' '\n",
    "dataset_no_null['Petróleo (bbl/dia)'] = dataset_no_null['Petróleo (bbl/dia)'].str.replace('.', '')\n",
    "dataset_no_null['Gás Natural_total (Mm³/dia)'] = dataset_no_null['Gás Natural_total (Mm³/dia)'].str.replace('.', '')\n"
   ]
  },
  {
   "cell_type": "code",
   "execution_count": null,
   "metadata": {},
   "outputs": [],
   "source": [
    "#Substituição da ',' pelo '.'\n",
    "dataset_no_null['Petróleo (bbl/dia)'] = dataset_no_null['Petróleo (bbl/dia)'].str.replace(',', '.')\n",
    "dataset_no_null['Gás Natural_total (Mm³/dia)'] = dataset_no_null['Gás Natural_total (Mm³/dia)'].str.replace(',', '.')\n"
   ]
  },
  {
   "cell_type": "code",
   "execution_count": 15,
   "metadata": {},
   "outputs": [
    {
     "data": {
      "text/html": [
       "<div>\n",
       "<style scoped>\n",
       "    .dataframe tbody tr th:only-of-type {\n",
       "        vertical-align: middle;\n",
       "    }\n",
       "\n",
       "    .dataframe tbody tr th {\n",
       "        vertical-align: top;\n",
       "    }\n",
       "\n",
       "    .dataframe thead th {\n",
       "        text-align: right;\n",
       "    }\n",
       "</style>\n",
       "<table border=\"1\" class=\"dataframe\">\n",
       "  <thead>\n",
       "    <tr style=\"text-align: right;\">\n",
       "      <th></th>\n",
       "      <th>Estado</th>\n",
       "      <th>Bacia</th>\n",
       "      <th>Nome Poço</th>\n",
       "      <th>Campo</th>\n",
       "      <th>Operador_empresa</th>\n",
       "      <th>Período</th>\n",
       "      <th>Petróleo (bbl/dia)</th>\n",
       "      <th>Gás Natural_total (Mm³/dia)</th>\n",
       "      <th>Tempo de Produção (hs por mês)</th>\n",
       "    </tr>\n",
       "  </thead>\n",
       "  <tbody>\n",
       "    <tr>\n",
       "      <th>0</th>\n",
       "      <td>Bahia</td>\n",
       "      <td>Recôncavo</td>\n",
       "      <td>7-C-10-BA</td>\n",
       "      <td>CANDEIAS</td>\n",
       "      <td>Petrobras</td>\n",
       "      <td>2005/01</td>\n",
       "      <td>9.4367</td>\n",
       "      <td>0.0000</td>\n",
       "      <td>31.0</td>\n",
       "    </tr>\n",
       "    <tr>\n",
       "      <th>1</th>\n",
       "      <td>Bahia</td>\n",
       "      <td>Recôncavo</td>\n",
       "      <td>7-C-13-BA</td>\n",
       "      <td>CANDEIAS</td>\n",
       "      <td>Petrobras</td>\n",
       "      <td>2005/01</td>\n",
       "      <td>0.0000</td>\n",
       "      <td>0.0000</td>\n",
       "      <td>31.0</td>\n",
       "    </tr>\n",
       "    <tr>\n",
       "      <th>2</th>\n",
       "      <td>Bahia</td>\n",
       "      <td>Recôncavo</td>\n",
       "      <td>7-A-6-BA</td>\n",
       "      <td>ARATU</td>\n",
       "      <td>Petrobras</td>\n",
       "      <td>2005/01</td>\n",
       "      <td>0.0000</td>\n",
       "      <td>0.0000</td>\n",
       "      <td>31.0</td>\n",
       "    </tr>\n",
       "    <tr>\n",
       "      <th>3</th>\n",
       "      <td>Bahia</td>\n",
       "      <td>Recôncavo</td>\n",
       "      <td>3-A-9-BA</td>\n",
       "      <td>ARATU</td>\n",
       "      <td>Petrobras</td>\n",
       "      <td>2005/01</td>\n",
       "      <td>0.0000</td>\n",
       "      <td>0.0000</td>\n",
       "      <td>31.0</td>\n",
       "    </tr>\n",
       "    <tr>\n",
       "      <th>4</th>\n",
       "      <td>Bahia</td>\n",
       "      <td>Recôncavo</td>\n",
       "      <td>7-C-25-BA</td>\n",
       "      <td>CANDEIAS</td>\n",
       "      <td>Petrobras</td>\n",
       "      <td>2005/01</td>\n",
       "      <td>3.7779</td>\n",
       "      <td>0.0000</td>\n",
       "      <td>31.0</td>\n",
       "    </tr>\n",
       "    <tr>\n",
       "      <th>5</th>\n",
       "      <td>Bahia</td>\n",
       "      <td>Recôncavo</td>\n",
       "      <td>7-C-39-BA</td>\n",
       "      <td>CANDEIAS</td>\n",
       "      <td>Petrobras</td>\n",
       "      <td>2005/01</td>\n",
       "      <td>1.1342</td>\n",
       "      <td>0.0000</td>\n",
       "      <td>31.0</td>\n",
       "    </tr>\n",
       "  </tbody>\n",
       "</table>\n",
       "</div>"
      ],
      "text/plain": [
       "  Estado      Bacia  Nome Poço     Campo Operador_empresa  Período  \\\n",
       "0  Bahia  Recôncavo  7-C-10-BA  CANDEIAS        Petrobras  2005/01   \n",
       "1  Bahia  Recôncavo  7-C-13-BA  CANDEIAS        Petrobras  2005/01   \n",
       "2  Bahia  Recôncavo   7-A-6-BA     ARATU        Petrobras  2005/01   \n",
       "3  Bahia  Recôncavo   3-A-9-BA     ARATU        Petrobras  2005/01   \n",
       "4  Bahia  Recôncavo  7-C-25-BA  CANDEIAS        Petrobras  2005/01   \n",
       "5  Bahia  Recôncavo  7-C-39-BA  CANDEIAS        Petrobras  2005/01   \n",
       "\n",
       "  Petróleo (bbl/dia) Gás Natural_total (Mm³/dia)  \\\n",
       "0             9.4367                      0.0000   \n",
       "1             0.0000                      0.0000   \n",
       "2             0.0000                      0.0000   \n",
       "3             0.0000                      0.0000   \n",
       "4             3.7779                      0.0000   \n",
       "5             1.1342                      0.0000   \n",
       "\n",
       "   Tempo de Produção (hs por mês)  \n",
       "0                            31.0  \n",
       "1                            31.0  \n",
       "2                            31.0  \n",
       "3                            31.0  \n",
       "4                            31.0  \n",
       "5                            31.0  "
      ]
     },
     "execution_count": 15,
     "metadata": {},
     "output_type": "execute_result"
    }
   ],
   "source": [
    "# Mostra as primeiras n linhas do Dataframe\n",
    "dataset_no_null.head(n= 6)"
   ]
  },
  {
   "cell_type": "code",
   "execution_count": null,
   "metadata": {},
   "outputs": [],
   "source": [
    "# Mudança do tipo\n",
    "atributos_int = ['Petróleo (bbl/dia)', 'Gás Natural_total (Mm³/dia)']\n",
    "dataset_no_null[atributos_int] = dataset_no_null[atributos_int].astype(np.float32)\n"
   ]
  },
  {
   "cell_type": "code",
   "execution_count": 17,
   "metadata": {},
   "outputs": [
    {
     "data": {
      "text/plain": [
       "Estado                             object\n",
       "Bacia                              object\n",
       "Nome Poço                          object\n",
       "Campo                              object\n",
       "Operador_empresa                   object\n",
       "Período                            object\n",
       "Petróleo (bbl/dia)                float32\n",
       "Gás Natural_total (Mm³/dia)       float32\n",
       "Tempo de Produção (hs por mês)    float64\n",
       "dtype: object"
      ]
     },
     "execution_count": 17,
     "metadata": {},
     "output_type": "execute_result"
    }
   ],
   "source": [
    "# Verifica o tipo de dataset de cada atributo\n",
    "dataset_no_null.dtypes"
   ]
  },
  {
   "cell_type": "markdown",
   "metadata": {},
   "source": [
    "### 2.4 Adicionar novas colunas\n",
    "Separar colunas de mês/ano"
   ]
  },
  {
   "cell_type": "code",
   "execution_count": 18,
   "metadata": {},
   "outputs": [],
   "source": [
    "# splitting is done on the basis of underscore.\n",
    "dataset_no_null[['Ano','Mes']] = dataset_no_null.Período.str.split(\"/\",expand=True)\n"
   ]
  },
  {
   "cell_type": "code",
   "execution_count": 19,
   "metadata": {},
   "outputs": [
    {
     "data": {
      "text/html": [
       "<div>\n",
       "<style scoped>\n",
       "    .dataframe tbody tr th:only-of-type {\n",
       "        vertical-align: middle;\n",
       "    }\n",
       "\n",
       "    .dataframe tbody tr th {\n",
       "        vertical-align: top;\n",
       "    }\n",
       "\n",
       "    .dataframe thead th {\n",
       "        text-align: right;\n",
       "    }\n",
       "</style>\n",
       "<table border=\"1\" class=\"dataframe\">\n",
       "  <thead>\n",
       "    <tr style=\"text-align: right;\">\n",
       "      <th></th>\n",
       "      <th>Estado</th>\n",
       "      <th>Bacia</th>\n",
       "      <th>Nome Poço</th>\n",
       "      <th>Campo</th>\n",
       "      <th>Operador_empresa</th>\n",
       "      <th>Período</th>\n",
       "      <th>Petróleo (bbl/dia)</th>\n",
       "      <th>Gás Natural_total (Mm³/dia)</th>\n",
       "      <th>Tempo de Produção (hs por mês)</th>\n",
       "      <th>Ano</th>\n",
       "      <th>Mes</th>\n",
       "    </tr>\n",
       "  </thead>\n",
       "  <tbody>\n",
       "    <tr>\n",
       "      <th>0</th>\n",
       "      <td>Bahia</td>\n",
       "      <td>Recôncavo</td>\n",
       "      <td>7-C-10-BA</td>\n",
       "      <td>CANDEIAS</td>\n",
       "      <td>Petrobras</td>\n",
       "      <td>2005/01</td>\n",
       "      <td>9.4367</td>\n",
       "      <td>0.0</td>\n",
       "      <td>31.0</td>\n",
       "      <td>2005</td>\n",
       "      <td>01</td>\n",
       "    </tr>\n",
       "    <tr>\n",
       "      <th>1</th>\n",
       "      <td>Bahia</td>\n",
       "      <td>Recôncavo</td>\n",
       "      <td>7-C-13-BA</td>\n",
       "      <td>CANDEIAS</td>\n",
       "      <td>Petrobras</td>\n",
       "      <td>2005/01</td>\n",
       "      <td>0.0000</td>\n",
       "      <td>0.0</td>\n",
       "      <td>31.0</td>\n",
       "      <td>2005</td>\n",
       "      <td>01</td>\n",
       "    </tr>\n",
       "    <tr>\n",
       "      <th>2</th>\n",
       "      <td>Bahia</td>\n",
       "      <td>Recôncavo</td>\n",
       "      <td>7-A-6-BA</td>\n",
       "      <td>ARATU</td>\n",
       "      <td>Petrobras</td>\n",
       "      <td>2005/01</td>\n",
       "      <td>0.0000</td>\n",
       "      <td>0.0</td>\n",
       "      <td>31.0</td>\n",
       "      <td>2005</td>\n",
       "      <td>01</td>\n",
       "    </tr>\n",
       "    <tr>\n",
       "      <th>3</th>\n",
       "      <td>Bahia</td>\n",
       "      <td>Recôncavo</td>\n",
       "      <td>3-A-9-BA</td>\n",
       "      <td>ARATU</td>\n",
       "      <td>Petrobras</td>\n",
       "      <td>2005/01</td>\n",
       "      <td>0.0000</td>\n",
       "      <td>0.0</td>\n",
       "      <td>31.0</td>\n",
       "      <td>2005</td>\n",
       "      <td>01</td>\n",
       "    </tr>\n",
       "  </tbody>\n",
       "</table>\n",
       "</div>"
      ],
      "text/plain": [
       "  Estado      Bacia  Nome Poço     Campo Operador_empresa  Período  \\\n",
       "0  Bahia  Recôncavo  7-C-10-BA  CANDEIAS        Petrobras  2005/01   \n",
       "1  Bahia  Recôncavo  7-C-13-BA  CANDEIAS        Petrobras  2005/01   \n",
       "2  Bahia  Recôncavo   7-A-6-BA     ARATU        Petrobras  2005/01   \n",
       "3  Bahia  Recôncavo   3-A-9-BA     ARATU        Petrobras  2005/01   \n",
       "\n",
       "   Petróleo (bbl/dia)  Gás Natural_total (Mm³/dia)  \\\n",
       "0              9.4367                          0.0   \n",
       "1              0.0000                          0.0   \n",
       "2              0.0000                          0.0   \n",
       "3              0.0000                          0.0   \n",
       "\n",
       "   Tempo de Produção (hs por mês)   Ano Mes  \n",
       "0                            31.0  2005  01  \n",
       "1                            31.0  2005  01  \n",
       "2                            31.0  2005  01  \n",
       "3                            31.0  2005  01  "
      ]
     },
     "execution_count": 19,
     "metadata": {},
     "output_type": "execute_result"
    }
   ],
   "source": [
    "# Mostra as primeiras n linhas do Dataframe\n",
    "dataset_no_null.head(n= 4)"
   ]
  },
  {
   "cell_type": "code",
   "execution_count": 20,
   "metadata": {},
   "outputs": [
    {
     "data": {
      "text/plain": [
       "Estado                             object\n",
       "Bacia                              object\n",
       "Nome Poço                          object\n",
       "Campo                              object\n",
       "Operador_empresa                   object\n",
       "Período                            object\n",
       "Petróleo (bbl/dia)                float32\n",
       "Gás Natural_total (Mm³/dia)       float32\n",
       "Tempo de Produção (hs por mês)    float64\n",
       "Ano                                object\n",
       "Mes                                object\n",
       "dtype: object"
      ]
     },
     "execution_count": 20,
     "metadata": {},
     "output_type": "execute_result"
    }
   ],
   "source": [
    "dataset_no_null.dtypes"
   ]
  },
  {
   "cell_type": "code",
   "execution_count": 21,
   "metadata": {},
   "outputs": [
    {
     "name": "stdout",
     "output_type": "stream",
     "text": [
      "(1960723, 11)\n"
     ]
    }
   ],
   "source": [
    "# Mudança do tipo\n",
    "atributos_int = ['Ano', 'Mes']\n",
    "dataset_no_null[atributos_int] = dataset_no_null[atributos_int].astype(np.float32)\n",
    "# Filtar até o ano de 2022\n",
    "dataset_no_null = dataset_no_null[dataset_no_null['Ano'] < 2023]\n",
    "# Mostra as dimensões do dataset\n",
    "print(dataset_no_null.shape)"
   ]
  },
  {
   "cell_type": "code",
   "execution_count": 22,
   "metadata": {},
   "outputs": [
    {
     "name": "stdout",
     "output_type": "stream",
     "text": [
      "A pasta já existe!\n"
     ]
    }
   ],
   "source": [
    "# Salva o dataset datasets_2021_2023\n",
    "create_folder('dataset/preprocess')\n",
    "dataset_no_null.to_csv('dataset/preprocess/dataset_preprocess.csv', sep=';')"
   ]
  },
  {
   "cell_type": "markdown",
   "metadata": {},
   "source": [
    "### 3. Correlação entre os atributos"
   ]
  },
  {
   "cell_type": "code",
   "execution_count": 23,
   "metadata": {},
   "outputs": [],
   "source": [
    "dataset_numeric = dataset_no_null.copy()\n",
    "# Adiciona IDs para o atributo UNIDADE DA FEDERAÇÃO\n",
    "set_ids(dataset_numeric, \"Estado\")\n",
    "# Adiciona IDs para o atributo PRODUTO\n",
    "set_ids(dataset_numeric, \"Bacia\")\n",
    "# Adiciona IDs para o atributo LOCALIZAÇÃO\n",
    "set_ids(dataset_numeric, \"Campo\")\n",
    "# Adiciona IDs para o atributo LOCALIZAÇÃO\n",
    "set_ids(dataset_numeric, \"Operador_empresa\")\n"
   ]
  },
  {
   "cell_type": "code",
   "execution_count": 24,
   "metadata": {},
   "outputs": [],
   "source": [
    "dataset_numeric = dataset_numeric[['ID_Estado', 'ID_Bacia', 'ID_Operador_empresa', 'Ano', 'Mes', 'Tempo de Produção (hs por mês)', 'Petróleo (bbl/dia)', 'Gás Natural_total (Mm³/dia)']]\n"
   ]
  },
  {
   "cell_type": "code",
   "execution_count": 25,
   "metadata": {},
   "outputs": [
    {
     "data": {
      "text/plain": [
       "<AxesSubplot:>"
      ]
     },
     "execution_count": 25,
     "metadata": {},
     "output_type": "execute_result"
    },
    {
     "data": {
      "image/png": "[encoded data removed]",
      "text/plain": [
       "<Figure size 640x480 with 2 Axes>"
      ]
     },
     "metadata": {},
     "output_type": "display_data"
    }
   ],
   "source": [
    "import seaborn as sns\n",
    "\n",
    "# Matriz de Correlação com Matplotlib Seaborn\n",
    "sns.heatmap(dataset_numeric.corr(), annot=True, cmap='RdBu')\n"
   ]
  },
  {
   "cell_type": "code",
   "execution_count": null,
   "metadata": {},
   "outputs": [],
   "source": []
  }
 ],
 "metadata": {
  "kernelspec": {
   "display_name": "dados",
   "language": "python",
   "name": "python3"
  },
  "language_info": {
   "codemirror_mode": {
    "name": "ipython",
    "version": 3
   },
   "file_extension": ".py",
   "mimetype": "text/x-python",
   "name": "python",
   "nbconvert_exporter": "python",
   "pygments_lexer": "ipython3",
   "version": "3.7.16"
  }
 },
 "nbformat": 4,
 "nbformat_minor": 2
}
