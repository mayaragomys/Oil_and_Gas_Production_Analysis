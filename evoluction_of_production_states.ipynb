{
  "cells": [
    {
      "cell_type": "markdown",
      "metadata": {
        "id": "otEdveLq8Hn0"
      },
      "source": [
        "# Trabalho de Visualização de Informação - PUC-Rio\n",
        "\n",
        "Aluna: Mayara Gomes Silva   \n"
      ]
    },
    {
      "cell_type": "code",
      "execution_count": 3,
      "metadata": {
        "id": "RCn8CH4M7wF-"
      },
      "outputs": [],
      "source": [
        "# Imports\n",
        "import pandas as pd\n",
        "import numpy as np\n",
        "from utils import *\n",
        "import requests\n",
        "from zipfile import ZipFile\n",
        "from io import BytesIO\n"
      ]
    },
    {
      "cell_type": "markdown",
      "metadata": {
        "id": "2PcB0Efd-MS4"
      },
      "source": [
        "## 1. Carga de Dados"
      ]
    },
    {
      "cell_type": "markdown",
      "metadata": {
        "id": "rmHBahfF-cJL"
      },
      "source": [
        "Será usado o pacote Pandas (Python Data Analysis Library) para carregar de um arquivo .csv"
      ]
    },
    {
      "cell_type": "code",
      "execution_count": 4,
      "metadata": {
        "id": "29AFuCPtvG_i"
      },
      "outputs": [],
      "source": [
        "\n",
        "path_dataset = 'dataset/preprocess/dataset_preprocess.csv'\n",
        "\n",
        "# Lê o arquivo utilizando as colunas informadas\n",
        "dataset = pd.read_csv(path_dataset, skiprows=0, delimiter=';')\n",
        "dataset_numeric = dataset.copy()\n",
        "\n",
        "# Remove primeira coluna\n",
        "dataset = dataset.drop(columns=['Unnamed: 0'])\n"
      ]
    },
    {
      "cell_type": "code",
      "execution_count": 5,
      "metadata": {},
      "outputs": [
        {
          "name": "stdout",
          "output_type": "stream",
          "text": [
            "(1960723, 11)\n"
          ]
        }
      ],
      "source": [
        "# Mostra as dimensões do dataset\n",
        "print(dataset.shape)"
      ]
    },
    {
      "cell_type": "code",
      "execution_count": 6,
      "metadata": {},
      "outputs": [
        {
          "data": {
            "text/html": [
              "<div>\n",
              "<style scoped>\n",
              "    .dataframe tbody tr th:only-of-type {\n",
              "        vertical-align: middle;\n",
              "    }\n",
              "\n",
              "    .dataframe tbody tr th {\n",
              "        vertical-align: top;\n",
              "    }\n",
              "\n",
              "    .dataframe thead th {\n",
              "        text-align: right;\n",
              "    }\n",
              "</style>\n",
              "<table border=\"1\" class=\"dataframe\">\n",
              "  <thead>\n",
              "    <tr style=\"text-align: right;\">\n",
              "      <th></th>\n",
              "      <th>Estado</th>\n",
              "      <th>Bacia</th>\n",
              "      <th>Nome Poço</th>\n",
              "      <th>Campo</th>\n",
              "      <th>Operador_empresa</th>\n",
              "      <th>Período</th>\n",
              "      <th>Petróleo (bbl/dia)</th>\n",
              "      <th>Gás Natural_total (Mm³/dia)</th>\n",
              "      <th>Tempo de Produção (hs por mês)</th>\n",
              "      <th>Ano</th>\n",
              "      <th>Mes</th>\n",
              "    </tr>\n",
              "  </thead>\n",
              "  <tbody>\n",
              "    <tr>\n",
              "      <th>0</th>\n",
              "      <td>Bahia</td>\n",
              "      <td>Recôncavo</td>\n",
              "      <td>7-C-10-BA</td>\n",
              "      <td>CANDEIAS</td>\n",
              "      <td>Petrobras</td>\n",
              "      <td>2005/01</td>\n",
              "      <td>9.4367</td>\n",
              "      <td>0.0</td>\n",
              "      <td>31.0</td>\n",
              "      <td>2005.0</td>\n",
              "      <td>1.0</td>\n",
              "    </tr>\n",
              "    <tr>\n",
              "      <th>1</th>\n",
              "      <td>Bahia</td>\n",
              "      <td>Recôncavo</td>\n",
              "      <td>7-C-13-BA</td>\n",
              "      <td>CANDEIAS</td>\n",
              "      <td>Petrobras</td>\n",
              "      <td>2005/01</td>\n",
              "      <td>0.0000</td>\n",
              "      <td>0.0</td>\n",
              "      <td>31.0</td>\n",
              "      <td>2005.0</td>\n",
              "      <td>1.0</td>\n",
              "    </tr>\n",
              "  </tbody>\n",
              "</table>\n",
              "</div>"
            ],
            "text/plain": [
              "  Estado      Bacia  Nome Poço     Campo Operador_empresa  Período  \\\n",
              "0  Bahia  Recôncavo  7-C-10-BA  CANDEIAS        Petrobras  2005/01   \n",
              "1  Bahia  Recôncavo  7-C-13-BA  CANDEIAS        Petrobras  2005/01   \n",
              "\n",
              "   Petróleo (bbl/dia)  Gás Natural_total (Mm³/dia)  \\\n",
              "0              9.4367                          0.0   \n",
              "1              0.0000                          0.0   \n",
              "\n",
              "   Tempo de Produção (hs por mês)     Ano  Mes  \n",
              "0                            31.0  2005.0  1.0  \n",
              "1                            31.0  2005.0  1.0  "
            ]
          },
          "execution_count": 6,
          "metadata": {},
          "output_type": "execute_result"
        }
      ],
      "source": [
        "# Mostra as primeiras n linhas do Dataframe\n",
        "dataset.head(n= 2)"
      ]
    },
    {
      "cell_type": "code",
      "execution_count": 7,
      "metadata": {},
      "outputs": [
        {
          "name": "stdout",
          "output_type": "stream",
          "text": [
            "Class breakdown of the data:\n",
            "\n",
            "Estado\n",
            "Alagoas                 53020\n",
            "Amazonas                16445\n",
            "Bahia                  394401\n",
            "Ceará                  120080\n",
            "Espírito Santo          89738\n",
            "Maranhão                 4311\n",
            "Paraná                     12\n",
            "Rio Grande do Norte    898637\n",
            "Sergipe                384079\n",
            "dtype: int64\n"
          ]
        }
      ],
      "source": [
        "class_counts = dataset.groupby('Estado').size() \n",
        "print('Class breakdown of the data:\\n')\n",
        "print(class_counts)"
      ]
    },
    {
      "cell_type": "markdown",
      "metadata": {
        "id": "XCCRac9ZAu67"
      },
      "source": [
        "## 2 Visualizações das perguntas\n",
        "\n",
        "Foram definidas várias perguntas e selecionadas 3 para visualização."
      ]
    },
    {
      "cell_type": "code",
      "execution_count": 8,
      "metadata": {},
      "outputs": [],
      "source": [
        "import json\n",
        "from plot import *"
      ]
    },
    {
      "cell_type": "markdown",
      "metadata": {},
      "source": [
        "#### 2.2 pergunta: Qual o estado que mais produz petróleo e gás?\n",
        "\n",
        "Colunas: Petróleo (m³) e Gás Natural (m³), estado.\n",
        "\n",
        "Dados contendo duas variáveis numericas e 1 categórica. Nesse caso vamos considerar um gráfico para Petróleo e outro para o Gás.\n",
        "\n",
        "Tipos de gráficos:\n",
        "- Linha \n",
        "- CHOROPLETH MAP\n",
        "- Barra horizontal com agrupamento por estado "
      ]
    },
    {
      "cell_type": "markdown",
      "metadata": {},
      "source": [
        "#### 2.2.1 Linha "
      ]
    },
    {
      "cell_type": "code",
      "execution_count": 9,
      "metadata": {},
      "outputs": [
        {
          "name": "stderr",
          "output_type": "stream",
          "text": [
            "c:\\Users\\mayar\\OneDrive\\Documentos\\Doutorado\\2023_2\\Oil_and_Gas_Production_Analysis\\utils.py:135: SettingWithCopyWarning: \n",
            "A value is trying to be set on a copy of a slice from a DataFrame.\n",
            "Try using .loc[row_indexer,col_indexer] = value instead\n",
            "\n",
            "See the caveats in the documentation: https://pandas.pydata.org/pandas-docs/stable/user_guide/indexing.html#returning-a-view-versus-a-copy\n",
            "  dataset_estados['Período'] = dataset_estados['Período'].map(lambda x: str(x))\n"
          ]
        }
      ],
      "source": [
        "# Produção por ano de petróleo de gás\n",
        "dataset_estados = dataframe_region(dataset)\n",
        "#dataset_estados"
      ]
    },
    {
      "cell_type": "code",
      "execution_count": 10,
      "metadata": {},
      "outputs": [
        {
          "data": {
            "application/vnd.plotly.v1+json": {
              "config": {
                "plotlyServerURL": "https://plot.ly"
              },
              "data": [
                {
                  "mode": "lines+markers",
                  "name": "Bahia",
                  "type": "scatter",
                  "x": [
                    2005,
                    2006,
                    2007,
                    2008,
                    2009,
                    2010,
                    2011,
                    2012,
                    2013,
                    2014,
                    2015,
                    2016,
                    2017,
                    2018,
                    2019,
                    2020,
                    2021,
                    2022
                  ],
                  "y": [
                    145320,
                    138469,
                    133401,
                    122597,
                    126336,
                    130763,
                    128400,
                    123572,
                    116001,
                    111442,
                    104280,
                    94768,
                    82218,
                    77417,
                    72923,
                    63521,
                    56570,
                    53392
                  ]
                },
                {
                  "mode": "lines+markers",
                  "name": "Alagoas",
                  "type": "scatter",
                  "x": [
                    2005,
                    2006,
                    2007,
                    2008,
                    2009,
                    2010,
                    2011,
                    2012,
                    2013,
                    2014,
                    2015,
                    2016,
                    2017,
                    2018,
                    2019,
                    2020,
                    2021,
                    2022
                  ],
                  "y": [
                    7052,
                    8044,
                    7941,
                    5846,
                    6150,
                    5565,
                    5192,
                    4502,
                    3592,
                    4164,
                    4258,
                    4097,
                    3121,
                    2550,
                    2649,
                    2487,
                    1793,
                    2346
                  ]
                },
                {
                  "mode": "lines+markers",
                  "name": "Sergipe",
                  "type": "scatter",
                  "x": [
                    2005,
                    2006,
                    2007,
                    2008,
                    2009,
                    2010,
                    2011,
                    2012,
                    2013,
                    2014,
                    2015,
                    2016,
                    2017,
                    2018,
                    2019,
                    2020,
                    2021,
                    2022
                  ],
                  "y": [
                    736910,
                    686138,
                    667332,
                    626516,
                    627927,
                    644189,
                    644306,
                    649342,
                    704474,
                    679495,
                    639893,
                    591805,
                    509778,
                    464942,
                    438104,
                    391012,
                    354366,
                    346072
                  ]
                },
                {
                  "mode": "lines+markers",
                  "name": "Espírito Santo",
                  "type": "scatter",
                  "x": [
                    2005,
                    2006,
                    2007,
                    2008,
                    2009,
                    2010,
                    2011,
                    2012,
                    2013,
                    2014,
                    2015,
                    2016,
                    2017,
                    2018,
                    2019,
                    2020,
                    2021,
                    2022
                  ],
                  "y": [
                    352833,
                    331450,
                    321172,
                    298472,
                    303466,
                    315480,
                    312216,
                    302944,
                    288800,
                    278444,
                    259987,
                    237045,
                    206291,
                    193114,
                    182070,
                    159489,
                    142871,
                    132243
                  ]
                },
                {
                  "mode": "lines+markers",
                  "name": "Ceará",
                  "type": "scatter",
                  "x": [
                    2005,
                    2006,
                    2007,
                    2008,
                    2009,
                    2010,
                    2011,
                    2012,
                    2013,
                    2014,
                    2015,
                    2016,
                    2017,
                    2018,
                    2019,
                    2020,
                    2021,
                    2022
                  ],
                  "y": [
                    240367,
                    226602,
                    219112,
                    203557,
                    208618,
                    216548,
                    213217,
                    205836,
                    195065,
                    187769,
                    175193,
                    159496,
                    138923,
                    130348,
                    122742,
                    107057,
                    95630,
                    89268
                  ]
                },
                {
                  "mode": "lines+markers",
                  "name": "Rio Grande do Norte",
                  "type": "scatter",
                  "x": [
                    2005,
                    2006,
                    2007,
                    2008,
                    2009,
                    2010,
                    2011,
                    2012,
                    2013,
                    2014,
                    2015,
                    2016,
                    2017,
                    2018,
                    2019,
                    2020,
                    2021,
                    2022
                  ],
                  "y": [
                    528557,
                    492296,
                    477075,
                    445599,
                    448459,
                    463368,
                    462171,
                    468703,
                    528979,
                    510483,
                    479781,
                    442029,
                    382731,
                    353779,
                    334178,
                    296367,
                    268414,
                    269511
                  ]
                },
                {
                  "mode": "lines+markers",
                  "name": "Amazonas",
                  "type": "scatter",
                  "x": [
                    2005,
                    2006,
                    2007,
                    2008,
                    2009,
                    2010,
                    2011,
                    2012,
                    2013,
                    2014,
                    2015,
                    2016,
                    2017,
                    2018,
                    2019,
                    2020,
                    2021,
                    2022
                  ],
                  "y": [
                    53490,
                    51866,
                    49521,
                    43545,
                    46139,
                    46825,
                    45137,
                    42557,
                    38070,
                    36338,
                    34828,
                    31590,
                    26740,
                    25539,
                    23969,
                    20757,
                    18188,
                    18126
                  ]
                },
                {
                  "mode": "lines+markers",
                  "name": "Maranhão",
                  "type": "scatter",
                  "x": [
                    2012,
                    2013,
                    2014,
                    2015,
                    2016,
                    2017,
                    2018,
                    2019,
                    2020,
                    2021,
                    2022
                  ],
                  "y": [
                    319615,
                    382615,
                    369237,
                    344794,
                    314632,
                    273695,
                    255922,
                    241452,
                    211988,
                    190194,
                    175257
                  ]
                },
                {
                  "mode": "lines+markers",
                  "name": "Paraná",
                  "type": "scatter",
                  "x": [
                    2022
                  ],
                  "y": [
                    196483
                  ]
                }
              ],
              "layout": {
                "template": {
                  "data": {
                    "bar": [
                      {
                        "error_x": {
                          "color": "#2a3f5f"
                        },
                        "error_y": {
                          "color": "#2a3f5f"
                        },
                        "marker": {
                          "line": {
                            "color": "#E5ECF6",
                            "width": 0.5
                          },
                          "pattern": {
                            "fillmode": "overlay",
                            "size": 10,
                            "solidity": 0.2
                          }
                        },
                        "type": "bar"
                      }
                    ],
                    "barpolar": [
                      {
                        "marker": {
                          "line": {
                            "color": "#E5ECF6",
                            "width": 0.5
                          },
                          "pattern": {
                            "fillmode": "overlay",
                            "size": 10,
                            "solidity": 0.2
                          }
                        },
                        "type": "barpolar"
                      }
                    ],
                    "carpet": [
                      {
                        "aaxis": {
                          "endlinecolor": "#2a3f5f",
                          "gridcolor": "white",
                          "linecolor": "white",
                          "minorgridcolor": "white",
                          "startlinecolor": "#2a3f5f"
                        },
                        "baxis": {
                          "endlinecolor": "#2a3f5f",
                          "gridcolor": "white",
                          "linecolor": "white",
                          "minorgridcolor": "white",
                          "startlinecolor": "#2a3f5f"
                        },
                        "type": "carpet"
                      }
                    ],
                    "choropleth": [
                      {
                        "colorbar": {
                          "outlinewidth": 0,
                          "ticks": ""
                        },
                        "type": "choropleth"
                      }
                    ],
                    "contour": [
                      {
                        "colorbar": {
                          "outlinewidth": 0,
                          "ticks": ""
                        },
                        "colorscale": [
                          [
                            0,
                            "#0d0887"
                          ],
                          [
                            0.1111111111111111,
                            "#46039f"
                          ],
                          [
                            0.2222222222222222,
                            "#7201a8"
                          ],
                          [
                            0.3333333333333333,
                            "#9c179e"
                          ],
                          [
                            0.4444444444444444,
                            "#bd3786"
                          ],
                          [
                            0.5555555555555556,
                            "#d8576b"
                          ],
                          [
                            0.6666666666666666,
                            "#ed7953"
                          ],
                          [
                            0.7777777777777778,
                            "#fb9f3a"
                          ],
                          [
                            0.8888888888888888,
                            "#fdca26"
                          ],
                          [
                            1,
                            "#f0f921"
                          ]
                        ],
                        "type": "contour"
                      }
                    ],
                    "contourcarpet": [
                      {
                        "colorbar": {
                          "outlinewidth": 0,
                          "ticks": ""
                        },
                        "type": "contourcarpet"
                      }
                    ],
                    "heatmap": [
                      {
                        "colorbar": {
                          "outlinewidth": 0,
                          "ticks": ""
                        },
                        "colorscale": [
                          [
                            0,
                            "#0d0887"
                          ],
                          [
                            0.1111111111111111,
                            "#46039f"
                          ],
                          [
                            0.2222222222222222,
                            "#7201a8"
                          ],
                          [
                            0.3333333333333333,
                            "#9c179e"
                          ],
                          [
                            0.4444444444444444,
                            "#bd3786"
                          ],
                          [
                            0.5555555555555556,
                            "#d8576b"
                          ],
                          [
                            0.6666666666666666,
                            "#ed7953"
                          ],
                          [
                            0.7777777777777778,
                            "#fb9f3a"
                          ],
                          [
                            0.8888888888888888,
                            "#fdca26"
                          ],
                          [
                            1,
                            "#f0f921"
                          ]
                        ],
                        "type": "heatmap"
                      }
                    ],
                    "heatmapgl": [
                      {
                        "colorbar": {
                          "outlinewidth": 0,
                          "ticks": ""
                        },
                        "colorscale": [
                          [
                            0,
                            "#0d0887"
                          ],
                          [
                            0.1111111111111111,
                            "#46039f"
                          ],
                          [
                            0.2222222222222222,
                            "#7201a8"
                          ],
                          [
                            0.3333333333333333,
                            "#9c179e"
                          ],
                          [
                            0.4444444444444444,
                            "#bd3786"
                          ],
                          [
                            0.5555555555555556,
                            "#d8576b"
                          ],
                          [
                            0.6666666666666666,
                            "#ed7953"
                          ],
                          [
                            0.7777777777777778,
                            "#fb9f3a"
                          ],
                          [
                            0.8888888888888888,
                            "#fdca26"
                          ],
                          [
                            1,
                            "#f0f921"
                          ]
                        ],
                        "type": "heatmapgl"
                      }
                    ],
                    "histogram": [
                      {
                        "marker": {
                          "pattern": {
                            "fillmode": "overlay",
                            "size": 10,
                            "solidity": 0.2
                          }
                        },
                        "type": "histogram"
                      }
                    ],
                    "histogram2d": [
                      {
                        "colorbar": {
                          "outlinewidth": 0,
                          "ticks": ""
                        },
                        "colorscale": [
                          [
                            0,
                            "#0d0887"
                          ],
                          [
                            0.1111111111111111,
                            "#46039f"
                          ],
                          [
                            0.2222222222222222,
                            "#7201a8"
                          ],
                          [
                            0.3333333333333333,
                            "#9c179e"
                          ],
                          [
                            0.4444444444444444,
                            "#bd3786"
                          ],
                          [
                            0.5555555555555556,
                            "#d8576b"
                          ],
                          [
                            0.6666666666666666,
                            "#ed7953"
                          ],
                          [
                            0.7777777777777778,
                            "#fb9f3a"
                          ],
                          [
                            0.8888888888888888,
                            "#fdca26"
                          ],
                          [
                            1,
                            "#f0f921"
                          ]
                        ],
                        "type": "histogram2d"
                      }
                    ],
                    "histogram2dcontour": [
                      {
                        "colorbar": {
                          "outlinewidth": 0,
                          "ticks": ""
                        },
                        "colorscale": [
                          [
                            0,
                            "#0d0887"
                          ],
                          [
                            0.1111111111111111,
                            "#46039f"
                          ],
                          [
                            0.2222222222222222,
                            "#7201a8"
                          ],
                          [
                            0.3333333333333333,
                            "#9c179e"
                          ],
                          [
                            0.4444444444444444,
                            "#bd3786"
                          ],
                          [
                            0.5555555555555556,
                            "#d8576b"
                          ],
                          [
                            0.6666666666666666,
                            "#ed7953"
                          ],
                          [
                            0.7777777777777778,
                            "#fb9f3a"
                          ],
                          [
                            0.8888888888888888,
                            "#fdca26"
                          ],
                          [
                            1,
                            "#f0f921"
                          ]
                        ],
                        "type": "histogram2dcontour"
                      }
                    ],
                    "mesh3d": [
                      {
                        "colorbar": {
                          "outlinewidth": 0,
                          "ticks": ""
                        },
                        "type": "mesh3d"
                      }
                    ],
                    "parcoords": [
                      {
                        "line": {
                          "colorbar": {
                            "outlinewidth": 0,
                            "ticks": ""
                          }
                        },
                        "type": "parcoords"
                      }
                    ],
                    "pie": [
                      {
                        "automargin": true,
                        "type": "pie"
                      }
                    ],
                    "scatter": [
                      {
                        "fillpattern": {
                          "fillmode": "overlay",
                          "size": 10,
                          "solidity": 0.2
                        },
                        "type": "scatter"
                      }
                    ],
                    "scatter3d": [
                      {
                        "line": {
                          "colorbar": {
                            "outlinewidth": 0,
                            "ticks": ""
                          }
                        },
                        "marker": {
                          "colorbar": {
                            "outlinewidth": 0,
                            "ticks": ""
                          }
                        },
                        "type": "scatter3d"
                      }
                    ],
                    "scattercarpet": [
                      {
                        "marker": {
                          "colorbar": {
                            "outlinewidth": 0,
                            "ticks": ""
                          }
                        },
                        "type": "scattercarpet"
                      }
                    ],
                    "scattergeo": [
                      {
                        "marker": {
                          "colorbar": {
                            "outlinewidth": 0,
                            "ticks": ""
                          }
                        },
                        "type": "scattergeo"
                      }
                    ],
                    "scattergl": [
                      {
                        "marker": {
                          "colorbar": {
                            "outlinewidth": 0,
                            "ticks": ""
                          }
                        },
                        "type": "scattergl"
                      }
                    ],
                    "scattermapbox": [
                      {
                        "marker": {
                          "colorbar": {
                            "outlinewidth": 0,
                            "ticks": ""
                          }
                        },
                        "type": "scattermapbox"
                      }
                    ],
                    "scatterpolar": [
                      {
                        "marker": {
                          "colorbar": {
                            "outlinewidth": 0,
                            "ticks": ""
                          }
                        },
                        "type": "scatterpolar"
                      }
                    ],
                    "scatterpolargl": [
                      {
                        "marker": {
                          "colorbar": {
                            "outlinewidth": 0,
                            "ticks": ""
                          }
                        },
                        "type": "scatterpolargl"
                      }
                    ],
                    "scatterternary": [
                      {
                        "marker": {
                          "colorbar": {
                            "outlinewidth": 0,
                            "ticks": ""
                          }
                        },
                        "type": "scatterternary"
                      }
                    ],
                    "surface": [
                      {
                        "colorbar": {
                          "outlinewidth": 0,
                          "ticks": ""
                        },
                        "colorscale": [
                          [
                            0,
                            "#0d0887"
                          ],
                          [
                            0.1111111111111111,
                            "#46039f"
                          ],
                          [
                            0.2222222222222222,
                            "#7201a8"
                          ],
                          [
                            0.3333333333333333,
                            "#9c179e"
                          ],
                          [
                            0.4444444444444444,
                            "#bd3786"
                          ],
                          [
                            0.5555555555555556,
                            "#d8576b"
                          ],
                          [
                            0.6666666666666666,
                            "#ed7953"
                          ],
                          [
                            0.7777777777777778,
                            "#fb9f3a"
                          ],
                          [
                            0.8888888888888888,
                            "#fdca26"
                          ],
                          [
                            1,
                            "#f0f921"
                          ]
                        ],
                        "type": "surface"
                      }
                    ],
                    "table": [
                      {
                        "cells": {
                          "fill": {
                            "color": "#EBF0F8"
                          },
                          "line": {
                            "color": "white"
                          }
                        },
                        "header": {
                          "fill": {
                            "color": "#C8D4E3"
                          },
                          "line": {
                            "color": "white"
                          }
                        },
                        "type": "table"
                      }
                    ]
                  },
                  "layout": {
                    "annotationdefaults": {
                      "arrowcolor": "#2a3f5f",
                      "arrowhead": 0,
                      "arrowwidth": 1
                    },
                    "autotypenumbers": "strict",
                    "coloraxis": {
                      "colorbar": {
                        "outlinewidth": 0,
                        "ticks": ""
                      }
                    },
                    "colorscale": {
                      "diverging": [
                        [
                          0,
                          "#8e0152"
                        ],
                        [
                          0.1,
                          "#c51b7d"
                        ],
                        [
                          0.2,
                          "#de77ae"
                        ],
                        [
                          0.3,
                          "#f1b6da"
                        ],
                        [
                          0.4,
                          "#fde0ef"
                        ],
                        [
                          0.5,
                          "#f7f7f7"
                        ],
                        [
                          0.6,
                          "#e6f5d0"
                        ],
                        [
                          0.7,
                          "#b8e186"
                        ],
                        [
                          0.8,
                          "#7fbc41"
                        ],
                        [
                          0.9,
                          "#4d9221"
                        ],
                        [
                          1,
                          "#276419"
                        ]
                      ],
                      "sequential": [
                        [
                          0,
                          "#0d0887"
                        ],
                        [
                          0.1111111111111111,
                          "#46039f"
                        ],
                        [
                          0.2222222222222222,
                          "#7201a8"
                        ],
                        [
                          0.3333333333333333,
                          "#9c179e"
                        ],
                        [
                          0.4444444444444444,
                          "#bd3786"
                        ],
                        [
                          0.5555555555555556,
                          "#d8576b"
                        ],
                        [
                          0.6666666666666666,
                          "#ed7953"
                        ],
                        [
                          0.7777777777777778,
                          "#fb9f3a"
                        ],
                        [
                          0.8888888888888888,
                          "#fdca26"
                        ],
                        [
                          1,
                          "#f0f921"
                        ]
                      ],
                      "sequentialminus": [
                        [
                          0,
                          "#0d0887"
                        ],
                        [
                          0.1111111111111111,
                          "#46039f"
                        ],
                        [
                          0.2222222222222222,
                          "#7201a8"
                        ],
                        [
                          0.3333333333333333,
                          "#9c179e"
                        ],
                        [
                          0.4444444444444444,
                          "#bd3786"
                        ],
                        [
                          0.5555555555555556,
                          "#d8576b"
                        ],
                        [
                          0.6666666666666666,
                          "#ed7953"
                        ],
                        [
                          0.7777777777777778,
                          "#fb9f3a"
                        ],
                        [
                          0.8888888888888888,
                          "#fdca26"
                        ],
                        [
                          1,
                          "#f0f921"
                        ]
                      ]
                    },
                    "colorway": [
                      "#636efa",
                      "#EF553B",
                      "#00cc96",
                      "#ab63fa",
                      "#FFA15A",
                      "#19d3f3",
                      "#FF6692",
                      "#B6E880",
                      "#FF97FF",
                      "#FECB52"
                    ],
                    "font": {
                      "color": "#2a3f5f"
                    },
                    "geo": {
                      "bgcolor": "white",
                      "lakecolor": "white",
                      "landcolor": "#E5ECF6",
                      "showlakes": true,
                      "showland": true,
                      "subunitcolor": "white"
                    },
                    "hoverlabel": {
                      "align": "left"
                    },
                    "hovermode": "closest",
                    "mapbox": {
                      "style": "light"
                    },
                    "paper_bgcolor": "white",
                    "plot_bgcolor": "#E5ECF6",
                    "polar": {
                      "angularaxis": {
                        "gridcolor": "white",
                        "linecolor": "white",
                        "ticks": ""
                      },
                      "bgcolor": "#E5ECF6",
                      "radialaxis": {
                        "gridcolor": "white",
                        "linecolor": "white",
                        "ticks": ""
                      }
                    },
                    "scene": {
                      "xaxis": {
                        "backgroundcolor": "#E5ECF6",
                        "gridcolor": "white",
                        "gridwidth": 2,
                        "linecolor": "white",
                        "showbackground": true,
                        "ticks": "",
                        "zerolinecolor": "white"
                      },
                      "yaxis": {
                        "backgroundcolor": "#E5ECF6",
                        "gridcolor": "white",
                        "gridwidth": 2,
                        "linecolor": "white",
                        "showbackground": true,
                        "ticks": "",
                        "zerolinecolor": "white"
                      },
                      "zaxis": {
                        "backgroundcolor": "#E5ECF6",
                        "gridcolor": "white",
                        "gridwidth": 2,
                        "linecolor": "white",
                        "showbackground": true,
                        "ticks": "",
                        "zerolinecolor": "white"
                      }
                    },
                    "shapedefaults": {
                      "line": {
                        "color": "#2a3f5f"
                      }
                    },
                    "ternary": {
                      "aaxis": {
                        "gridcolor": "white",
                        "linecolor": "white",
                        "ticks": ""
                      },
                      "baxis": {
                        "gridcolor": "white",
                        "linecolor": "white",
                        "ticks": ""
                      },
                      "bgcolor": "#E5ECF6",
                      "caxis": {
                        "gridcolor": "white",
                        "linecolor": "white",
                        "ticks": ""
                      }
                    },
                    "title": {
                      "x": 0.05
                    },
                    "xaxis": {
                      "automargin": true,
                      "gridcolor": "white",
                      "linecolor": "white",
                      "ticks": "",
                      "title": {
                        "standoff": 15
                      },
                      "zerolinecolor": "white",
                      "zerolinewidth": 2
                    },
                    "yaxis": {
                      "automargin": true,
                      "gridcolor": "white",
                      "linecolor": "white",
                      "ticks": "",
                      "title": {
                        "standoff": 15
                      },
                      "zerolinecolor": "white",
                      "zerolinewidth": 2
                    }
                  }
                },
                "title": {
                  "text": "Evolução da produção de Petróleo (bbl/dia)"
                },
                "xaxis": {
                  "title": {
                    "text": "Ano"
                  }
                },
                "yaxis": {
                  "title": {
                    "text": "Petróleo (bbl/dia)"
                  }
                }
              }
            }
          },
          "metadata": {},
          "output_type": "display_data"
        }
      ],
      "source": [
        "estados = dataset[\"Estado\"].unique()\n",
        "variavel = 'Petróleo (bbl/dia)'\n",
        "plot_mult_line(dataset_estados, estados, variavel)\n",
        "\n",
        "variavel = 'Gás Natural_total (Mm³/dia)'\n",
        "#plot_mult_line(dataset_estados, estados, variavel)"
      ]
    },
    {
      "cell_type": "code",
      "execution_count": 11,
      "metadata": {},
      "outputs": [
        {
          "name": "stdout",
          "output_type": "stream",
          "text": [
            "A pasta já existe!\n"
          ]
        }
      ],
      "source": [
        "# Salvar o dataset pre-processado\n",
        "path = 'dataset/preprocess'\n",
        "create_folder(path)\n",
        "dataset_estados.to_csv(path + '/evoluction_production_states.csv', sep=';')"
      ]
    },
    {
      "cell_type": "markdown",
      "metadata": {},
      "source": [
        "#### 2.2.2 Choropleth \n",
        "\n",
        "Poderia ter a opção de escolher visualizar: Total, Petróleo, gás."
      ]
    },
    {
      "cell_type": "code",
      "execution_count": 12,
      "metadata": {},
      "outputs": [],
      "source": [
        "json_path = 'https://github.com/filipegmedeiros/brazilian_choropleth_map/raw/main/geojson/geojson.zip'\n",
        "# 1- Exporta o gson com os dados dos estados\n",
        "r = requests.get(json_path)\n",
        "z = ZipFile(BytesIO(r.content))\n",
        "z.extractall()"
      ]
    },
    {
      "cell_type": "code",
      "execution_count": 13,
      "metadata": {},
      "outputs": [],
      "source": [
        "# Carrega os dados de localização para o mapa\n",
        "geojson = json.load(open('brasil_estados.json'))\n",
        "\n",
        "# Faz uma copia do dataset e modifica algumas informações\n",
        "dataset_estados['Estados'] = dataset_estados['Estado'].map(estados_sigla)\n",
        "#dataset_estados"
      ]
    },
    {
      "cell_type": "code",
      "execution_count": null,
      "metadata": {},
      "outputs": [],
      "source": [
        "#Agrupando os estados por ano\n",
        "variavel = 'Petróleo (bbl/dia)'\n",
        "\n",
        "df_estado_choropleth = dataset_estados[['Período', 'Estados', variavel]]\n",
        "choropleth(df_estado_choropleth, variavel)\n",
        "\n",
        "#-------------------------------------------------------\n",
        "variavel = 'Gás Natural (Mm³/dia)'\n",
        "dataset_estado = dataset_estados.rename({'Gás Natural_total (Mm³/dia)': variavel}, axis = 1)\n",
        "df_estado_choropleth = dataset_estados[['Período', 'Estados', variavel]]\n",
        "#choropleth(df_estado_choropleth, variavel)"
      ]
    },
    {
      "cell_type": "markdown",
      "metadata": {},
      "source": [
        "#### 2.2.3 Barra horizontal com agrupamento por estado\n",
        "\n",
        "Mostrar a quantidade de petroleo e gás individualmente, talvez adicionar os valores"
      ]
    },
    {
      "cell_type": "code",
      "execution_count": 17,
      "metadata": {},
      "outputs": [
        {
          "data": {
            "application/vnd.plotly.v1+json": {
              "config": {
                "plotlyServerURL": "https://plot.ly"
              },
              "data": [
                {
                  "alignmentgroup": "True",
                  "hovertemplate": "Período=2005<br>Petróleo (bbl/dia)=%{x}<br>Estado=%{y}<extra></extra>",
                  "legendgroup": "",
                  "marker": {
                    "color": "#636efa",
                    "pattern": {
                      "shape": ""
                    }
                  },
                  "name": "",
                  "offsetgroup": "",
                  "orientation": "h",
                  "showlegend": false,
                  "textposition": "auto",
                  "texttemplate": "%{x:.5s}",
                  "type": "bar",
                  "x": [
                    7052,
                    53490,
                    145320,
                    240367,
                    352833,
                    528557,
                    736910
                  ],
                  "xaxis": "x",
                  "y": [
                    "Alagoas",
                    "Amazonas",
                    "Bahia",
                    "Ceará",
                    "Espírito Santo",
                    "Rio Grande do Norte",
                    "Sergipe"
                  ],
                  "yaxis": "y"
                }
              ],
              "frames": [
                {
                  "data": [
                    {
                      "alignmentgroup": "True",
                      "hovertemplate": "Período=2005<br>Petróleo (bbl/dia)=%{x}<br>Estado=%{y}<extra></extra>",
                      "legendgroup": "",
                      "marker": {
                        "color": "#636efa",
                        "pattern": {
                          "shape": ""
                        }
                      },
                      "name": "",
                      "offsetgroup": "",
                      "orientation": "h",
                      "showlegend": false,
                      "textposition": "auto",
                      "texttemplate": "%{x:.5s}",
                      "type": "bar",
                      "x": [
                        7052,
                        53490,
                        145320,
                        240367,
                        352833,
                        528557,
                        736910
                      ],
                      "xaxis": "x",
                      "y": [
                        "Alagoas",
                        "Amazonas",
                        "Bahia",
                        "Ceará",
                        "Espírito Santo",
                        "Rio Grande do Norte",
                        "Sergipe"
                      ],
                      "yaxis": "y"
                    }
                  ],
                  "name": "2005"
                },
                {
                  "data": [
                    {
                      "alignmentgroup": "True",
                      "hovertemplate": "Período=2006<br>Petróleo (bbl/dia)=%{x}<br>Estado=%{y}<extra></extra>",
                      "legendgroup": "",
                      "marker": {
                        "color": "#636efa",
                        "pattern": {
                          "shape": ""
                        }
                      },
                      "name": "",
                      "offsetgroup": "",
                      "orientation": "h",
                      "showlegend": false,
                      "textposition": "auto",
                      "texttemplate": "%{x:.5s}",
                      "type": "bar",
                      "x": [
                        8044,
                        51866,
                        138469,
                        226602,
                        331450,
                        492296,
                        686138
                      ],
                      "xaxis": "x",
                      "y": [
                        "Alagoas",
                        "Amazonas",
                        "Bahia",
                        "Ceará",
                        "Espírito Santo",
                        "Rio Grande do Norte",
                        "Sergipe"
                      ],
                      "yaxis": "y"
                    }
                  ],
                  "name": "2006"
                },
                {
                  "data": [
                    {
                      "alignmentgroup": "True",
                      "hovertemplate": "Período=2007<br>Petróleo (bbl/dia)=%{x}<br>Estado=%{y}<extra></extra>",
                      "legendgroup": "",
                      "marker": {
                        "color": "#636efa",
                        "pattern": {
                          "shape": ""
                        }
                      },
                      "name": "",
                      "offsetgroup": "",
                      "orientation": "h",
                      "showlegend": false,
                      "textposition": "auto",
                      "texttemplate": "%{x:.5s}",
                      "type": "bar",
                      "x": [
                        7941,
                        49521,
                        133401,
                        219112,
                        321172,
                        477075,
                        667332
                      ],
                      "xaxis": "x",
                      "y": [
                        "Alagoas",
                        "Amazonas",
                        "Bahia",
                        "Ceará",
                        "Espírito Santo",
                        "Rio Grande do Norte",
                        "Sergipe"
                      ],
                      "yaxis": "y"
                    }
                  ],
                  "name": "2007"
                },
                {
                  "data": [
                    {
                      "alignmentgroup": "True",
                      "hovertemplate": "Período=2008<br>Petróleo (bbl/dia)=%{x}<br>Estado=%{y}<extra></extra>",
                      "legendgroup": "",
                      "marker": {
                        "color": "#636efa",
                        "pattern": {
                          "shape": ""
                        }
                      },
                      "name": "",
                      "offsetgroup": "",
                      "orientation": "h",
                      "showlegend": false,
                      "textposition": "auto",
                      "texttemplate": "%{x:.5s}",
                      "type": "bar",
                      "x": [
                        5846,
                        43545,
                        122597,
                        203557,
                        298472,
                        445599,
                        626516
                      ],
                      "xaxis": "x",
                      "y": [
                        "Alagoas",
                        "Amazonas",
                        "Bahia",
                        "Ceará",
                        "Espírito Santo",
                        "Rio Grande do Norte",
                        "Sergipe"
                      ],
                      "yaxis": "y"
                    }
                  ],
                  "name": "2008"
                },
                {
                  "data": [
                    {
                      "alignmentgroup": "True",
                      "hovertemplate": "Período=2009<br>Petróleo (bbl/dia)=%{x}<br>Estado=%{y}<extra></extra>",
                      "legendgroup": "",
                      "marker": {
                        "color": "#636efa",
                        "pattern": {
                          "shape": ""
                        }
                      },
                      "name": "",
                      "offsetgroup": "",
                      "orientation": "h",
                      "showlegend": false,
                      "textposition": "auto",
                      "texttemplate": "%{x:.5s}",
                      "type": "bar",
                      "x": [
                        6150,
                        46139,
                        126336,
                        208618,
                        303466,
                        448459,
                        627927
                      ],
                      "xaxis": "x",
                      "y": [
                        "Alagoas",
                        "Amazonas",
                        "Bahia",
                        "Ceará",
                        "Espírito Santo",
                        "Rio Grande do Norte",
                        "Sergipe"
                      ],
                      "yaxis": "y"
                    }
                  ],
                  "name": "2009"
                },
                {
                  "data": [
                    {
                      "alignmentgroup": "True",
                      "hovertemplate": "Período=2010<br>Petróleo (bbl/dia)=%{x}<br>Estado=%{y}<extra></extra>",
                      "legendgroup": "",
                      "marker": {
                        "color": "#636efa",
                        "pattern": {
                          "shape": ""
                        }
                      },
                      "name": "",
                      "offsetgroup": "",
                      "orientation": "h",
                      "showlegend": false,
                      "textposition": "auto",
                      "texttemplate": "%{x:.5s}",
                      "type": "bar",
                      "x": [
                        5565,
                        46825,
                        130763,
                        216548,
                        315480,
                        463368,
                        644189
                      ],
                      "xaxis": "x",
                      "y": [
                        "Alagoas",
                        "Amazonas",
                        "Bahia",
                        "Ceará",
                        "Espírito Santo",
                        "Rio Grande do Norte",
                        "Sergipe"
                      ],
                      "yaxis": "y"
                    }
                  ],
                  "name": "2010"
                },
                {
                  "data": [
                    {
                      "alignmentgroup": "True",
                      "hovertemplate": "Período=2011<br>Petróleo (bbl/dia)=%{x}<br>Estado=%{y}<extra></extra>",
                      "legendgroup": "",
                      "marker": {
                        "color": "#636efa",
                        "pattern": {
                          "shape": ""
                        }
                      },
                      "name": "",
                      "offsetgroup": "",
                      "orientation": "h",
                      "showlegend": false,
                      "textposition": "auto",
                      "texttemplate": "%{x:.5s}",
                      "type": "bar",
                      "x": [
                        5192,
                        45137,
                        128400,
                        213217,
                        312216,
                        462171,
                        644306
                      ],
                      "xaxis": "x",
                      "y": [
                        "Alagoas",
                        "Amazonas",
                        "Bahia",
                        "Ceará",
                        "Espírito Santo",
                        "Rio Grande do Norte",
                        "Sergipe"
                      ],
                      "yaxis": "y"
                    }
                  ],
                  "name": "2011"
                },
                {
                  "data": [
                    {
                      "alignmentgroup": "True",
                      "hovertemplate": "Período=2012<br>Petróleo (bbl/dia)=%{x}<br>Estado=%{y}<extra></extra>",
                      "legendgroup": "",
                      "marker": {
                        "color": "#636efa",
                        "pattern": {
                          "shape": ""
                        }
                      },
                      "name": "",
                      "offsetgroup": "",
                      "orientation": "h",
                      "showlegend": false,
                      "textposition": "auto",
                      "texttemplate": "%{x:.5s}",
                      "type": "bar",
                      "x": [
                        4502,
                        42557,
                        123572,
                        205836,
                        302944,
                        319615,
                        468703,
                        649342
                      ],
                      "xaxis": "x",
                      "y": [
                        "Alagoas",
                        "Amazonas",
                        "Bahia",
                        "Ceará",
                        "Espírito Santo",
                        "Maranhão",
                        "Rio Grande do Norte",
                        "Sergipe"
                      ],
                      "yaxis": "y"
                    }
                  ],
                  "name": "2012"
                },
                {
                  "data": [
                    {
                      "alignmentgroup": "True",
                      "hovertemplate": "Período=2013<br>Petróleo (bbl/dia)=%{x}<br>Estado=%{y}<extra></extra>",
                      "legendgroup": "",
                      "marker": {
                        "color": "#636efa",
                        "pattern": {
                          "shape": ""
                        }
                      },
                      "name": "",
                      "offsetgroup": "",
                      "orientation": "h",
                      "showlegend": false,
                      "textposition": "auto",
                      "texttemplate": "%{x:.5s}",
                      "type": "bar",
                      "x": [
                        3592,
                        38070,
                        116001,
                        195065,
                        288800,
                        382615,
                        528979,
                        704474
                      ],
                      "xaxis": "x",
                      "y": [
                        "Alagoas",
                        "Amazonas",
                        "Bahia",
                        "Ceará",
                        "Espírito Santo",
                        "Maranhão",
                        "Rio Grande do Norte",
                        "Sergipe"
                      ],
                      "yaxis": "y"
                    }
                  ],
                  "name": "2013"
                },
                {
                  "data": [
                    {
                      "alignmentgroup": "True",
                      "hovertemplate": "Período=2014<br>Petróleo (bbl/dia)=%{x}<br>Estado=%{y}<extra></extra>",
                      "legendgroup": "",
                      "marker": {
                        "color": "#636efa",
                        "pattern": {
                          "shape": ""
                        }
                      },
                      "name": "",
                      "offsetgroup": "",
                      "orientation": "h",
                      "showlegend": false,
                      "textposition": "auto",
                      "texttemplate": "%{x:.5s}",
                      "type": "bar",
                      "x": [
                        4164,
                        36338,
                        111442,
                        187769,
                        278444,
                        369237,
                        510483,
                        679495
                      ],
                      "xaxis": "x",
                      "y": [
                        "Alagoas",
                        "Amazonas",
                        "Bahia",
                        "Ceará",
                        "Espírito Santo",
                        "Maranhão",
                        "Rio Grande do Norte",
                        "Sergipe"
                      ],
                      "yaxis": "y"
                    }
                  ],
                  "name": "2014"
                },
                {
                  "data": [
                    {
                      "alignmentgroup": "True",
                      "hovertemplate": "Período=2015<br>Petróleo (bbl/dia)=%{x}<br>Estado=%{y}<extra></extra>",
                      "legendgroup": "",
                      "marker": {
                        "color": "#636efa",
                        "pattern": {
                          "shape": ""
                        }
                      },
                      "name": "",
                      "offsetgroup": "",
                      "orientation": "h",
                      "showlegend": false,
                      "textposition": "auto",
                      "texttemplate": "%{x:.5s}",
                      "type": "bar",
                      "x": [
                        4258,
                        34828,
                        104280,
                        175193,
                        259987,
                        344794,
                        479781,
                        639893
                      ],
                      "xaxis": "x",
                      "y": [
                        "Alagoas",
                        "Amazonas",
                        "Bahia",
                        "Ceará",
                        "Espírito Santo",
                        "Maranhão",
                        "Rio Grande do Norte",
                        "Sergipe"
                      ],
                      "yaxis": "y"
                    }
                  ],
                  "name": "2015"
                },
                {
                  "data": [
                    {
                      "alignmentgroup": "True",
                      "hovertemplate": "Período=2016<br>Petróleo (bbl/dia)=%{x}<br>Estado=%{y}<extra></extra>",
                      "legendgroup": "",
                      "marker": {
                        "color": "#636efa",
                        "pattern": {
                          "shape": ""
                        }
                      },
                      "name": "",
                      "offsetgroup": "",
                      "orientation": "h",
                      "showlegend": false,
                      "textposition": "auto",
                      "texttemplate": "%{x:.5s}",
                      "type": "bar",
                      "x": [
                        4097,
                        31590,
                        94768,
                        159496,
                        237045,
                        314632,
                        442029,
                        591805
                      ],
                      "xaxis": "x",
                      "y": [
                        "Alagoas",
                        "Amazonas",
                        "Bahia",
                        "Ceará",
                        "Espírito Santo",
                        "Maranhão",
                        "Rio Grande do Norte",
                        "Sergipe"
                      ],
                      "yaxis": "y"
                    }
                  ],
                  "name": "2016"
                },
                {
                  "data": [
                    {
                      "alignmentgroup": "True",
                      "hovertemplate": "Período=2017<br>Petróleo (bbl/dia)=%{x}<br>Estado=%{y}<extra></extra>",
                      "legendgroup": "",
                      "marker": {
                        "color": "#636efa",
                        "pattern": {
                          "shape": ""
                        }
                      },
                      "name": "",
                      "offsetgroup": "",
                      "orientation": "h",
                      "showlegend": false,
                      "textposition": "auto",
                      "texttemplate": "%{x:.5s}",
                      "type": "bar",
                      "x": [
                        3121,
                        26740,
                        82218,
                        138923,
                        206291,
                        273695,
                        382731,
                        509778
                      ],
                      "xaxis": "x",
                      "y": [
                        "Alagoas",
                        "Amazonas",
                        "Bahia",
                        "Ceará",
                        "Espírito Santo",
                        "Maranhão",
                        "Rio Grande do Norte",
                        "Sergipe"
                      ],
                      "yaxis": "y"
                    }
                  ],
                  "name": "2017"
                },
                {
                  "data": [
                    {
                      "alignmentgroup": "True",
                      "hovertemplate": "Período=2018<br>Petróleo (bbl/dia)=%{x}<br>Estado=%{y}<extra></extra>",
                      "legendgroup": "",
                      "marker": {
                        "color": "#636efa",
                        "pattern": {
                          "shape": ""
                        }
                      },
                      "name": "",
                      "offsetgroup": "",
                      "orientation": "h",
                      "showlegend": false,
                      "textposition": "auto",
                      "texttemplate": "%{x:.5s}",
                      "type": "bar",
                      "x": [
                        2550,
                        25539,
                        77417,
                        130348,
                        193114,
                        255922,
                        353779,
                        464942
                      ],
                      "xaxis": "x",
                      "y": [
                        "Alagoas",
                        "Amazonas",
                        "Bahia",
                        "Ceará",
                        "Espírito Santo",
                        "Maranhão",
                        "Rio Grande do Norte",
                        "Sergipe"
                      ],
                      "yaxis": "y"
                    }
                  ],
                  "name": "2018"
                },
                {
                  "data": [
                    {
                      "alignmentgroup": "True",
                      "hovertemplate": "Período=2019<br>Petróleo (bbl/dia)=%{x}<br>Estado=%{y}<extra></extra>",
                      "legendgroup": "",
                      "marker": {
                        "color": "#636efa",
                        "pattern": {
                          "shape": ""
                        }
                      },
                      "name": "",
                      "offsetgroup": "",
                      "orientation": "h",
                      "showlegend": false,
                      "textposition": "auto",
                      "texttemplate": "%{x:.5s}",
                      "type": "bar",
                      "x": [
                        2649,
                        23969,
                        72923,
                        122742,
                        182070,
                        241452,
                        334178,
                        438104
                      ],
                      "xaxis": "x",
                      "y": [
                        "Alagoas",
                        "Amazonas",
                        "Bahia",
                        "Ceará",
                        "Espírito Santo",
                        "Maranhão",
                        "Rio Grande do Norte",
                        "Sergipe"
                      ],
                      "yaxis": "y"
                    }
                  ],
                  "name": "2019"
                },
                {
                  "data": [
                    {
                      "alignmentgroup": "True",
                      "hovertemplate": "Período=2020<br>Petróleo (bbl/dia)=%{x}<br>Estado=%{y}<extra></extra>",
                      "legendgroup": "",
                      "marker": {
                        "color": "#636efa",
                        "pattern": {
                          "shape": ""
                        }
                      },
                      "name": "",
                      "offsetgroup": "",
                      "orientation": "h",
                      "showlegend": false,
                      "textposition": "auto",
                      "texttemplate": "%{x:.5s}",
                      "type": "bar",
                      "x": [
                        2487,
                        20757,
                        63521,
                        107057,
                        159489,
                        211988,
                        296367,
                        391012
                      ],
                      "xaxis": "x",
                      "y": [
                        "Alagoas",
                        "Amazonas",
                        "Bahia",
                        "Ceará",
                        "Espírito Santo",
                        "Maranhão",
                        "Rio Grande do Norte",
                        "Sergipe"
                      ],
                      "yaxis": "y"
                    }
                  ],
                  "name": "2020"
                },
                {
                  "data": [
                    {
                      "alignmentgroup": "True",
                      "hovertemplate": "Período=2021<br>Petróleo (bbl/dia)=%{x}<br>Estado=%{y}<extra></extra>",
                      "legendgroup": "",
                      "marker": {
                        "color": "#636efa",
                        "pattern": {
                          "shape": ""
                        }
                      },
                      "name": "",
                      "offsetgroup": "",
                      "orientation": "h",
                      "showlegend": false,
                      "textposition": "auto",
                      "texttemplate": "%{x:.5s}",
                      "type": "bar",
                      "x": [
                        1793,
                        18188,
                        56570,
                        95630,
                        142871,
                        190194,
                        268414,
                        354366
                      ],
                      "xaxis": "x",
                      "y": [
                        "Alagoas",
                        "Amazonas",
                        "Bahia",
                        "Ceará",
                        "Espírito Santo",
                        "Maranhão",
                        "Rio Grande do Norte",
                        "Sergipe"
                      ],
                      "yaxis": "y"
                    }
                  ],
                  "name": "2021"
                },
                {
                  "data": [
                    {
                      "alignmentgroup": "True",
                      "hovertemplate": "Período=2022<br>Petróleo (bbl/dia)=%{x}<br>Estado=%{y}<extra></extra>",
                      "legendgroup": "",
                      "marker": {
                        "color": "#636efa",
                        "pattern": {
                          "shape": ""
                        }
                      },
                      "name": "",
                      "offsetgroup": "",
                      "orientation": "h",
                      "showlegend": false,
                      "textposition": "auto",
                      "texttemplate": "%{x:.5s}",
                      "type": "bar",
                      "x": [
                        2346,
                        18126,
                        53392,
                        89268,
                        132243,
                        175257,
                        196483,
                        269511,
                        346072
                      ],
                      "xaxis": "x",
                      "y": [
                        "Alagoas",
                        "Amazonas",
                        "Bahia",
                        "Ceará",
                        "Espírito Santo",
                        "Maranhão",
                        "Paraná",
                        "Rio Grande do Norte",
                        "Sergipe"
                      ],
                      "yaxis": "y"
                    }
                  ],
                  "name": "2022"
                }
              ],
              "layout": {
                "barmode": "relative",
                "legend": {
                  "tracegroupgap": 0
                },
                "margin": {
                  "t": 60
                },
                "sliders": [
                  {
                    "active": 0,
                    "currentvalue": {
                      "prefix": "Período="
                    },
                    "len": 0.9,
                    "pad": {
                      "b": 10,
                      "t": 60
                    },
                    "steps": [
                      {
                        "args": [
                          [
                            "2005"
                          ],
                          {
                            "frame": {
                              "duration": 0,
                              "redraw": true
                            },
                            "fromcurrent": true,
                            "mode": "immediate",
                            "transition": {
                              "duration": 0,
                              "easing": "linear"
                            }
                          }
                        ],
                        "label": "2005",
                        "method": "animate"
                      },
                      {
                        "args": [
                          [
                            "2006"
                          ],
                          {
                            "frame": {
                              "duration": 0,
                              "redraw": true
                            },
                            "fromcurrent": true,
                            "mode": "immediate",
                            "transition": {
                              "duration": 0,
                              "easing": "linear"
                            }
                          }
                        ],
                        "label": "2006",
                        "method": "animate"
                      },
                      {
                        "args": [
                          [
                            "2007"
                          ],
                          {
                            "frame": {
                              "duration": 0,
                              "redraw": true
                            },
                            "fromcurrent": true,
                            "mode": "immediate",
                            "transition": {
                              "duration": 0,
                              "easing": "linear"
                            }
                          }
                        ],
                        "label": "2007",
                        "method": "animate"
                      },
                      {
                        "args": [
                          [
                            "2008"
                          ],
                          {
                            "frame": {
                              "duration": 0,
                              "redraw": true
                            },
                            "fromcurrent": true,
                            "mode": "immediate",
                            "transition": {
                              "duration": 0,
                              "easing": "linear"
                            }
                          }
                        ],
                        "label": "2008",
                        "method": "animate"
                      },
                      {
                        "args": [
                          [
                            "2009"
                          ],
                          {
                            "frame": {
                              "duration": 0,
                              "redraw": true
                            },
                            "fromcurrent": true,
                            "mode": "immediate",
                            "transition": {
                              "duration": 0,
                              "easing": "linear"
                            }
                          }
                        ],
                        "label": "2009",
                        "method": "animate"
                      },
                      {
                        "args": [
                          [
                            "2010"
                          ],
                          {
                            "frame": {
                              "duration": 0,
                              "redraw": true
                            },
                            "fromcurrent": true,
                            "mode": "immediate",
                            "transition": {
                              "duration": 0,
                              "easing": "linear"
                            }
                          }
                        ],
                        "label": "2010",
                        "method": "animate"
                      },
                      {
                        "args": [
                          [
                            "2011"
                          ],
                          {
                            "frame": {
                              "duration": 0,
                              "redraw": true
                            },
                            "fromcurrent": true,
                            "mode": "immediate",
                            "transition": {
                              "duration": 0,
                              "easing": "linear"
                            }
                          }
                        ],
                        "label": "2011",
                        "method": "animate"
                      },
                      {
                        "args": [
                          [
                            "2012"
                          ],
                          {
                            "frame": {
                              "duration": 0,
                              "redraw": true
                            },
                            "fromcurrent": true,
                            "mode": "immediate",
                            "transition": {
                              "duration": 0,
                              "easing": "linear"
                            }
                          }
                        ],
                        "label": "2012",
                        "method": "animate"
                      },
                      {
                        "args": [
                          [
                            "2013"
                          ],
                          {
                            "frame": {
                              "duration": 0,
                              "redraw": true
                            },
                            "fromcurrent": true,
                            "mode": "immediate",
                            "transition": {
                              "duration": 0,
                              "easing": "linear"
                            }
                          }
                        ],
                        "label": "2013",
                        "method": "animate"
                      },
                      {
                        "args": [
                          [
                            "2014"
                          ],
                          {
                            "frame": {
                              "duration": 0,
                              "redraw": true
                            },
                            "fromcurrent": true,
                            "mode": "immediate",
                            "transition": {
                              "duration": 0,
                              "easing": "linear"
                            }
                          }
                        ],
                        "label": "2014",
                        "method": "animate"
                      },
                      {
                        "args": [
                          [
                            "2015"
                          ],
                          {
                            "frame": {
                              "duration": 0,
                              "redraw": true
                            },
                            "fromcurrent": true,
                            "mode": "immediate",
                            "transition": {
                              "duration": 0,
                              "easing": "linear"
                            }
                          }
                        ],
                        "label": "2015",
                        "method": "animate"
                      },
                      {
                        "args": [
                          [
                            "2016"
                          ],
                          {
                            "frame": {
                              "duration": 0,
                              "redraw": true
                            },
                            "fromcurrent": true,
                            "mode": "immediate",
                            "transition": {
                              "duration": 0,
                              "easing": "linear"
                            }
                          }
                        ],
                        "label": "2016",
                        "method": "animate"
                      },
                      {
                        "args": [
                          [
                            "2017"
                          ],
                          {
                            "frame": {
                              "duration": 0,
                              "redraw": true
                            },
                            "fromcurrent": true,
                            "mode": "immediate",
                            "transition": {
                              "duration": 0,
                              "easing": "linear"
                            }
                          }
                        ],
                        "label": "2017",
                        "method": "animate"
                      },
                      {
                        "args": [
                          [
                            "2018"
                          ],
                          {
                            "frame": {
                              "duration": 0,
                              "redraw": true
                            },
                            "fromcurrent": true,
                            "mode": "immediate",
                            "transition": {
                              "duration": 0,
                              "easing": "linear"
                            }
                          }
                        ],
                        "label": "2018",
                        "method": "animate"
                      },
                      {
                        "args": [
                          [
                            "2019"
                          ],
                          {
                            "frame": {
                              "duration": 0,
                              "redraw": true
                            },
                            "fromcurrent": true,
                            "mode": "immediate",
                            "transition": {
                              "duration": 0,
                              "easing": "linear"
                            }
                          }
                        ],
                        "label": "2019",
                        "method": "animate"
                      },
                      {
                        "args": [
                          [
                            "2020"
                          ],
                          {
                            "frame": {
                              "duration": 0,
                              "redraw": true
                            },
                            "fromcurrent": true,
                            "mode": "immediate",
                            "transition": {
                              "duration": 0,
                              "easing": "linear"
                            }
                          }
                        ],
                        "label": "2020",
                        "method": "animate"
                      },
                      {
                        "args": [
                          [
                            "2021"
                          ],
                          {
                            "frame": {
                              "duration": 0,
                              "redraw": true
                            },
                            "fromcurrent": true,
                            "mode": "immediate",
                            "transition": {
                              "duration": 0,
                              "easing": "linear"
                            }
                          }
                        ],
                        "label": "2021",
                        "method": "animate"
                      },
                      {
                        "args": [
                          [
                            "2022"
                          ],
                          {
                            "frame": {
                              "duration": 0,
                              "redraw": true
                            },
                            "fromcurrent": true,
                            "mode": "immediate",
                            "transition": {
                              "duration": 0,
                              "easing": "linear"
                            }
                          }
                        ],
                        "label": "2022",
                        "method": "animate"
                      }
                    ],
                    "x": 0.1,
                    "xanchor": "left",
                    "y": 0,
                    "yanchor": "top"
                  }
                ],
                "template": {
                  "data": {
                    "bar": [
                      {
                        "error_x": {
                          "color": "#2a3f5f"
                        },
                        "error_y": {
                          "color": "#2a3f5f"
                        },
                        "marker": {
                          "line": {
                            "color": "#E5ECF6",
                            "width": 0.5
                          },
                          "pattern": {
                            "fillmode": "overlay",
                            "size": 10,
                            "solidity": 0.2
                          }
                        },
                        "type": "bar"
                      }
                    ],
                    "barpolar": [
                      {
                        "marker": {
                          "line": {
                            "color": "#E5ECF6",
                            "width": 0.5
                          },
                          "pattern": {
                            "fillmode": "overlay",
                            "size": 10,
                            "solidity": 0.2
                          }
                        },
                        "type": "barpolar"
                      }
                    ],
                    "carpet": [
                      {
                        "aaxis": {
                          "endlinecolor": "#2a3f5f",
                          "gridcolor": "white",
                          "linecolor": "white",
                          "minorgridcolor": "white",
                          "startlinecolor": "#2a3f5f"
                        },
                        "baxis": {
                          "endlinecolor": "#2a3f5f",
                          "gridcolor": "white",
                          "linecolor": "white",
                          "minorgridcolor": "white",
                          "startlinecolor": "#2a3f5f"
                        },
                        "type": "carpet"
                      }
                    ],
                    "choropleth": [
                      {
                        "colorbar": {
                          "outlinewidth": 0,
                          "ticks": ""
                        },
                        "type": "choropleth"
                      }
                    ],
                    "contour": [
                      {
                        "colorbar": {
                          "outlinewidth": 0,
                          "ticks": ""
                        },
                        "colorscale": [
                          [
                            0,
                            "#0d0887"
                          ],
                          [
                            0.1111111111111111,
                            "#46039f"
                          ],
                          [
                            0.2222222222222222,
                            "#7201a8"
                          ],
                          [
                            0.3333333333333333,
                            "#9c179e"
                          ],
                          [
                            0.4444444444444444,
                            "#bd3786"
                          ],
                          [
                            0.5555555555555556,
                            "#d8576b"
                          ],
                          [
                            0.6666666666666666,
                            "#ed7953"
                          ],
                          [
                            0.7777777777777778,
                            "#fb9f3a"
                          ],
                          [
                            0.8888888888888888,
                            "#fdca26"
                          ],
                          [
                            1,
                            "#f0f921"
                          ]
                        ],
                        "type": "contour"
                      }
                    ],
                    "contourcarpet": [
                      {
                        "colorbar": {
                          "outlinewidth": 0,
                          "ticks": ""
                        },
                        "type": "contourcarpet"
                      }
                    ],
                    "heatmap": [
                      {
                        "colorbar": {
                          "outlinewidth": 0,
                          "ticks": ""
                        },
                        "colorscale": [
                          [
                            0,
                            "#0d0887"
                          ],
                          [
                            0.1111111111111111,
                            "#46039f"
                          ],
                          [
                            0.2222222222222222,
                            "#7201a8"
                          ],
                          [
                            0.3333333333333333,
                            "#9c179e"
                          ],
                          [
                            0.4444444444444444,
                            "#bd3786"
                          ],
                          [
                            0.5555555555555556,
                            "#d8576b"
                          ],
                          [
                            0.6666666666666666,
                            "#ed7953"
                          ],
                          [
                            0.7777777777777778,
                            "#fb9f3a"
                          ],
                          [
                            0.8888888888888888,
                            "#fdca26"
                          ],
                          [
                            1,
                            "#f0f921"
                          ]
                        ],
                        "type": "heatmap"
                      }
                    ],
                    "heatmapgl": [
                      {
                        "colorbar": {
                          "outlinewidth": 0,
                          "ticks": ""
                        },
                        "colorscale": [
                          [
                            0,
                            "#0d0887"
                          ],
                          [
                            0.1111111111111111,
                            "#46039f"
                          ],
                          [
                            0.2222222222222222,
                            "#7201a8"
                          ],
                          [
                            0.3333333333333333,
                            "#9c179e"
                          ],
                          [
                            0.4444444444444444,
                            "#bd3786"
                          ],
                          [
                            0.5555555555555556,
                            "#d8576b"
                          ],
                          [
                            0.6666666666666666,
                            "#ed7953"
                          ],
                          [
                            0.7777777777777778,
                            "#fb9f3a"
                          ],
                          [
                            0.8888888888888888,
                            "#fdca26"
                          ],
                          [
                            1,
                            "#f0f921"
                          ]
                        ],
                        "type": "heatmapgl"
                      }
                    ],
                    "histogram": [
                      {
                        "marker": {
                          "pattern": {
                            "fillmode": "overlay",
                            "size": 10,
                            "solidity": 0.2
                          }
                        },
                        "type": "histogram"
                      }
                    ],
                    "histogram2d": [
                      {
                        "colorbar": {
                          "outlinewidth": 0,
                          "ticks": ""
                        },
                        "colorscale": [
                          [
                            0,
                            "#0d0887"
                          ],
                          [
                            0.1111111111111111,
                            "#46039f"
                          ],
                          [
                            0.2222222222222222,
                            "#7201a8"
                          ],
                          [
                            0.3333333333333333,
                            "#9c179e"
                          ],
                          [
                            0.4444444444444444,
                            "#bd3786"
                          ],
                          [
                            0.5555555555555556,
                            "#d8576b"
                          ],
                          [
                            0.6666666666666666,
                            "#ed7953"
                          ],
                          [
                            0.7777777777777778,
                            "#fb9f3a"
                          ],
                          [
                            0.8888888888888888,
                            "#fdca26"
                          ],
                          [
                            1,
                            "#f0f921"
                          ]
                        ],
                        "type": "histogram2d"
                      }
                    ],
                    "histogram2dcontour": [
                      {
                        "colorbar": {
                          "outlinewidth": 0,
                          "ticks": ""
                        },
                        "colorscale": [
                          [
                            0,
                            "#0d0887"
                          ],
                          [
                            0.1111111111111111,
                            "#46039f"
                          ],
                          [
                            0.2222222222222222,
                            "#7201a8"
                          ],
                          [
                            0.3333333333333333,
                            "#9c179e"
                          ],
                          [
                            0.4444444444444444,
                            "#bd3786"
                          ],
                          [
                            0.5555555555555556,
                            "#d8576b"
                          ],
                          [
                            0.6666666666666666,
                            "#ed7953"
                          ],
                          [
                            0.7777777777777778,
                            "#fb9f3a"
                          ],
                          [
                            0.8888888888888888,
                            "#fdca26"
                          ],
                          [
                            1,
                            "#f0f921"
                          ]
                        ],
                        "type": "histogram2dcontour"
                      }
                    ],
                    "mesh3d": [
                      {
                        "colorbar": {
                          "outlinewidth": 0,
                          "ticks": ""
                        },
                        "type": "mesh3d"
                      }
                    ],
                    "parcoords": [
                      {
                        "line": {
                          "colorbar": {
                            "outlinewidth": 0,
                            "ticks": ""
                          }
                        },
                        "type": "parcoords"
                      }
                    ],
                    "pie": [
                      {
                        "automargin": true,
                        "type": "pie"
                      }
                    ],
                    "scatter": [
                      {
                        "fillpattern": {
                          "fillmode": "overlay",
                          "size": 10,
                          "solidity": 0.2
                        },
                        "type": "scatter"
                      }
                    ],
                    "scatter3d": [
                      {
                        "line": {
                          "colorbar": {
                            "outlinewidth": 0,
                            "ticks": ""
                          }
                        },
                        "marker": {
                          "colorbar": {
                            "outlinewidth": 0,
                            "ticks": ""
                          }
                        },
                        "type": "scatter3d"
                      }
                    ],
                    "scattercarpet": [
                      {
                        "marker": {
                          "colorbar": {
                            "outlinewidth": 0,
                            "ticks": ""
                          }
                        },
                        "type": "scattercarpet"
                      }
                    ],
                    "scattergeo": [
                      {
                        "marker": {
                          "colorbar": {
                            "outlinewidth": 0,
                            "ticks": ""
                          }
                        },
                        "type": "scattergeo"
                      }
                    ],
                    "scattergl": [
                      {
                        "marker": {
                          "colorbar": {
                            "outlinewidth": 0,
                            "ticks": ""
                          }
                        },
                        "type": "scattergl"
                      }
                    ],
                    "scattermapbox": [
                      {
                        "marker": {
                          "colorbar": {
                            "outlinewidth": 0,
                            "ticks": ""
                          }
                        },
                        "type": "scattermapbox"
                      }
                    ],
                    "scatterpolar": [
                      {
                        "marker": {
                          "colorbar": {
                            "outlinewidth": 0,
                            "ticks": ""
                          }
                        },
                        "type": "scatterpolar"
                      }
                    ],
                    "scatterpolargl": [
                      {
                        "marker": {
                          "colorbar": {
                            "outlinewidth": 0,
                            "ticks": ""
                          }
                        },
                        "type": "scatterpolargl"
                      }
                    ],
                    "scatterternary": [
                      {
                        "marker": {
                          "colorbar": {
                            "outlinewidth": 0,
                            "ticks": ""
                          }
                        },
                        "type": "scatterternary"
                      }
                    ],
                    "surface": [
                      {
                        "colorbar": {
                          "outlinewidth": 0,
                          "ticks": ""
                        },
                        "colorscale": [
                          [
                            0,
                            "#0d0887"
                          ],
                          [
                            0.1111111111111111,
                            "#46039f"
                          ],
                          [
                            0.2222222222222222,
                            "#7201a8"
                          ],
                          [
                            0.3333333333333333,
                            "#9c179e"
                          ],
                          [
                            0.4444444444444444,
                            "#bd3786"
                          ],
                          [
                            0.5555555555555556,
                            "#d8576b"
                          ],
                          [
                            0.6666666666666666,
                            "#ed7953"
                          ],
                          [
                            0.7777777777777778,
                            "#fb9f3a"
                          ],
                          [
                            0.8888888888888888,
                            "#fdca26"
                          ],
                          [
                            1,
                            "#f0f921"
                          ]
                        ],
                        "type": "surface"
                      }
                    ],
                    "table": [
                      {
                        "cells": {
                          "fill": {
                            "color": "#EBF0F8"
                          },
                          "line": {
                            "color": "white"
                          }
                        },
                        "header": {
                          "fill": {
                            "color": "#C8D4E3"
                          },
                          "line": {
                            "color": "white"
                          }
                        },
                        "type": "table"
                      }
                    ]
                  },
                  "layout": {
                    "annotationdefaults": {
                      "arrowcolor": "#2a3f5f",
                      "arrowhead": 0,
                      "arrowwidth": 1
                    },
                    "autotypenumbers": "strict",
                    "coloraxis": {
                      "colorbar": {
                        "outlinewidth": 0,
                        "ticks": ""
                      }
                    },
                    "colorscale": {
                      "diverging": [
                        [
                          0,
                          "#8e0152"
                        ],
                        [
                          0.1,
                          "#c51b7d"
                        ],
                        [
                          0.2,
                          "#de77ae"
                        ],
                        [
                          0.3,
                          "#f1b6da"
                        ],
                        [
                          0.4,
                          "#fde0ef"
                        ],
                        [
                          0.5,
                          "#f7f7f7"
                        ],
                        [
                          0.6,
                          "#e6f5d0"
                        ],
                        [
                          0.7,
                          "#b8e186"
                        ],
                        [
                          0.8,
                          "#7fbc41"
                        ],
                        [
                          0.9,
                          "#4d9221"
                        ],
                        [
                          1,
                          "#276419"
                        ]
                      ],
                      "sequential": [
                        [
                          0,
                          "#0d0887"
                        ],
                        [
                          0.1111111111111111,
                          "#46039f"
                        ],
                        [
                          0.2222222222222222,
                          "#7201a8"
                        ],
                        [
                          0.3333333333333333,
                          "#9c179e"
                        ],
                        [
                          0.4444444444444444,
                          "#bd3786"
                        ],
                        [
                          0.5555555555555556,
                          "#d8576b"
                        ],
                        [
                          0.6666666666666666,
                          "#ed7953"
                        ],
                        [
                          0.7777777777777778,
                          "#fb9f3a"
                        ],
                        [
                          0.8888888888888888,
                          "#fdca26"
                        ],
                        [
                          1,
                          "#f0f921"
                        ]
                      ],
                      "sequentialminus": [
                        [
                          0,
                          "#0d0887"
                        ],
                        [
                          0.1111111111111111,
                          "#46039f"
                        ],
                        [
                          0.2222222222222222,
                          "#7201a8"
                        ],
                        [
                          0.3333333333333333,
                          "#9c179e"
                        ],
                        [
                          0.4444444444444444,
                          "#bd3786"
                        ],
                        [
                          0.5555555555555556,
                          "#d8576b"
                        ],
                        [
                          0.6666666666666666,
                          "#ed7953"
                        ],
                        [
                          0.7777777777777778,
                          "#fb9f3a"
                        ],
                        [
                          0.8888888888888888,
                          "#fdca26"
                        ],
                        [
                          1,
                          "#f0f921"
                        ]
                      ]
                    },
                    "colorway": [
                      "#636efa",
                      "#EF553B",
                      "#00cc96",
                      "#ab63fa",
                      "#FFA15A",
                      "#19d3f3",
                      "#FF6692",
                      "#B6E880",
                      "#FF97FF",
                      "#FECB52"
                    ],
                    "font": {
                      "color": "#2a3f5f"
                    },
                    "geo": {
                      "bgcolor": "white",
                      "lakecolor": "white",
                      "landcolor": "#E5ECF6",
                      "showlakes": true,
                      "showland": true,
                      "subunitcolor": "white"
                    },
                    "hoverlabel": {
                      "align": "left"
                    },
                    "hovermode": "closest",
                    "mapbox": {
                      "style": "light"
                    },
                    "paper_bgcolor": "white",
                    "plot_bgcolor": "#E5ECF6",
                    "polar": {
                      "angularaxis": {
                        "gridcolor": "white",
                        "linecolor": "white",
                        "ticks": ""
                      },
                      "bgcolor": "#E5ECF6",
                      "radialaxis": {
                        "gridcolor": "white",
                        "linecolor": "white",
                        "ticks": ""
                      }
                    },
                    "scene": {
                      "xaxis": {
                        "backgroundcolor": "#E5ECF6",
                        "gridcolor": "white",
                        "gridwidth": 2,
                        "linecolor": "white",
                        "showbackground": true,
                        "ticks": "",
                        "zerolinecolor": "white"
                      },
                      "yaxis": {
                        "backgroundcolor": "#E5ECF6",
                        "gridcolor": "white",
                        "gridwidth": 2,
                        "linecolor": "white",
                        "showbackground": true,
                        "ticks": "",
                        "zerolinecolor": "white"
                      },
                      "zaxis": {
                        "backgroundcolor": "#E5ECF6",
                        "gridcolor": "white",
                        "gridwidth": 2,
                        "linecolor": "white",
                        "showbackground": true,
                        "ticks": "",
                        "zerolinecolor": "white"
                      }
                    },
                    "shapedefaults": {
                      "line": {
                        "color": "#2a3f5f"
                      }
                    },
                    "ternary": {
                      "aaxis": {
                        "gridcolor": "white",
                        "linecolor": "white",
                        "ticks": ""
                      },
                      "baxis": {
                        "gridcolor": "white",
                        "linecolor": "white",
                        "ticks": ""
                      },
                      "bgcolor": "#E5ECF6",
                      "caxis": {
                        "gridcolor": "white",
                        "linecolor": "white",
                        "ticks": ""
                      }
                    },
                    "title": {
                      "x": 0.05
                    },
                    "xaxis": {
                      "automargin": true,
                      "gridcolor": "white",
                      "linecolor": "white",
                      "ticks": "",
                      "title": {
                        "standoff": 15
                      },
                      "zerolinecolor": "white",
                      "zerolinewidth": 2
                    },
                    "yaxis": {
                      "automargin": true,
                      "gridcolor": "white",
                      "linecolor": "white",
                      "ticks": "",
                      "title": {
                        "standoff": 15
                      },
                      "zerolinecolor": "white",
                      "zerolinewidth": 2
                    }
                  }
                },
                "title": {
                  "text": "Produção de Petróleo (bbl/dia) por estado"
                },
                "updatemenus": [
                  {
                    "buttons": [
                      {
                        "args": [
                          null,
                          {
                            "frame": {
                              "duration": 500,
                              "redraw": true
                            },
                            "fromcurrent": true,
                            "mode": "immediate",
                            "transition": {
                              "duration": 500,
                              "easing": "linear"
                            }
                          }
                        ],
                        "label": "&#9654;",
                        "method": "animate"
                      },
                      {
                        "args": [
                          [
                            null
                          ],
                          {
                            "frame": {
                              "duration": 0,
                              "redraw": true
                            },
                            "fromcurrent": true,
                            "mode": "immediate",
                            "transition": {
                              "duration": 0,
                              "easing": "linear"
                            }
                          }
                        ],
                        "label": "&#9724;",
                        "method": "animate"
                      }
                    ],
                    "direction": "left",
                    "pad": {
                      "r": 10,
                      "t": 70
                    },
                    "showactive": false,
                    "type": "buttons",
                    "x": 0.1,
                    "xanchor": "right",
                    "y": 0,
                    "yanchor": "top"
                  }
                ],
                "xaxis": {
                  "anchor": "y",
                  "domain": [
                    0,
                    1
                  ],
                  "title": {
                    "text": "Petróleo (bbl/dia)"
                  }
                },
                "yaxis": {
                  "anchor": "x",
                  "domain": [
                    0,
                    1
                  ],
                  "title": {
                    "text": "Estado"
                  }
                }
              }
            }
          },
          "metadata": {},
          "output_type": "display_data"
        }
      ],
      "source": [
        "variavel = 'Petróleo (bbl/dia)'\n",
        "plot_bar_horizontal(dataset_estados, variavel)\n",
        "\n",
        "#plot_bar_horizontal(dataset_estados, 'Gás Natural (Mm³/dia)')\n"
      ]
    },
    {
      "cell_type": "code",
      "execution_count": null,
      "metadata": {},
      "outputs": [],
      "source": []
    }
  ],
  "metadata": {
    "colab": {
      "provenance": []
    },
    "kernelspec": {
      "display_name": "Python 3",
      "name": "python3"
    },
    "language_info": {
      "codemirror_mode": {
        "name": "ipython",
        "version": 3
      },
      "file_extension": ".py",
      "mimetype": "text/x-python",
      "name": "python",
      "nbconvert_exporter": "python",
      "pygments_lexer": "ipython3",
      "version": "3.7.16"
    }
  },
  "nbformat": 4,
  "nbformat_minor": 0
}
